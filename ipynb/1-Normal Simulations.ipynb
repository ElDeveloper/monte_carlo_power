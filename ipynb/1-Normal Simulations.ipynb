{
 "cells": [
  {
   "cell_type": "markdown",
   "metadata": {},
   "source": [
    "**Author**: JW Debelius<br>\n",
    "**License**: BSD-2<br>\n",
    "**Copyright**: Copyright JW Debelius, 2016"
   ]
  },
  {
   "cell_type": "markdown",
   "metadata": {},
   "source": [
    "# Introduction\n",
    "\n",
    "We will start by simulating distributions, power and effect sizes from common distributions."
   ]
  },
  {
   "cell_type": "code",
   "execution_count": 1,
   "metadata": {
    "collapsed": false
   },
   "outputs": [],
   "source": [
    "import os\n",
    "import pickle\n",
    "\n",
    "from matplotlib import rcParams\n",
    "import matplotlib.pyplot as plt\n",
    "import numpy as np\n",
    "import pandas as pd\n",
    "import seaborn as sn\n",
    "import scipy.stats\n",
    "from scipy.stats import norm as z\n",
    "\n",
    "from power.power import subsample_power, confidence_bound\n",
    "import utils.simulate as sim\n",
    "import utils.traditional as trad\n",
    "import utils.plot as plot\n",
    "import utils.utils as ap"
   ]
  },
  {
   "cell_type": "markdown",
   "metadata": {},
   "source": [
    "# Simulation Parameters\n",
    "We will perform 100 simulations of statistical power, comparing the power between 5 and 50 counts, with 5 observation intervals between. We'll set the critical value at 0.05."
   ]
  },
  {
   "cell_type": "code",
   "execution_count": 6,
   "metadata": {
    "collapsed": false
   },
   "outputs": [],
   "source": [
    "num_rounds = 1000\n",
    "counts = np.arange(5, 55, 10)\n",
    "alpha = 0.05\n",
    "distributions = {}"
   ]
  },
  {
   "cell_type": "markdown",
   "metadata": {},
   "source": [
    "\n",
    "\n",
    "We'll also set a random seed, so that the results we get out are consistent."
   ]
  },
  {
   "cell_type": "code",
   "execution_count": 7,
   "metadata": {
    "collapsed": false
   },
   "outputs": [],
   "source": [
    "np.random.seed(25)"
   ]
  },
  {
   "cell_type": "markdown",
   "metadata": {},
   "source": [
    "# Case I T test\n",
    "\n",
    "We're going to start by looking at a case I t test.\n",
    "\n",
    "The test checkes if an observation is drawn from a sample. We are testing the alternative hypotheses,\n",
    "\n",
    "$\\begin{matrix}\n",
    "\\textbf{H}_{0} & x = \\bar{x} \\\\\n",
    "\\textbf{H}_{1} & x \\neq \\bar{x}\\\\\n",
    "\\end{matrix} \\tag{1}$\n",
    "\n",
    "where $\\bar{x}$ is the mean of the population, $x$ is the value being compared to the sample, $s$ is the standard devation of the sample, and there are $n$ observations in the sample.\n",
    "\n",
    "The test statistic for the case I t test is given as\n",
    "\n",
    "$t = \\frac{(\\bar{x} - x)\\sqrt{n}}{s} \\tag{2}$\n",
    "\n",
    "The probability distribution follows a T distribution with $n-1$ degrees of freedom, where $n$ is the number of observations in the sample.\n",
    "\n",
    "\n",
    "For the emperical test, we will use the `scipy.stats.ttest_1samp` function, which returns a p value."
   ]
  },
  {
   "cell_type": "code",
   "execution_count": 8,
   "metadata": {
    "collapsed": true
   },
   "outputs": [],
   "source": [
    "def emp_ttest_1(sample, x0=0):\n",
    "    \"\"\"Wraps a one sample t test for power calculation\"\"\"\n",
    "    return scipy.stats.ttest_1samp(sample, x0)[1]"
   ]
  },
  {
   "cell_type": "markdown",
   "metadata": {},
   "source": [
    "The effect size for a one-sample t test is Cohen's d, given by equation (3).\n",
    "$\\begin{align*}\n",
    "d = \\frac{\\bar{x} - x_{0}}{s}\n",
    "\\end{align*}\\tag{3}$\n",
    "For a two-tailed test, we can treat this as an absloute magnitude, and then test $t > (1 - \\alpha/2)$. This is implemented and tested in the `traditional` module."
   ]
  },
  {
   "cell_type": "markdown",
   "metadata": {},
   "source": [
    "In a parametric test, we look at power for the probability under the alternative hypothesis. The noncentrality parameter is used to modify the alternative hypothesis. For a case I t test, the non centrality paramter for the statistic, $\\lambda$ is given by\n",
    "$\\begin{align*}\n",
    "\\lambda &= \\frac{t}{\\sqrt{n}}\\\\\n",
    "&=\\frac{1}{\\sqrt{n}}\\left(\\frac{(\\bar{x} - x)\\sqrt{n}}{s}\\right )\\\\\n",
    "&=\\frac{(\\bar{x} - x)}{s}\n",
    "\\end{align*}\\tag{4}$\n",
    "\n",
    "We will encorperate this in the power calculation. To allow for testing, the power calculation has been moved into a library."
   ]
  },
  {
   "cell_type": "markdown",
   "metadata": {},
   "source": [
    "Finally, let's define the the parameters we'll use for the simulations.\n",
    "We'll test the set of hypotheses,\n",
    "\n",
    "$\\begin{matrix}\n",
    "\\textbf{H}_{0} & 0 = \\bar{x} \\\\\n",
    "\\textbf{H}_{1} & 0 \\neq \\bar{x}\\\\\n",
    "\\end{matrix} \\tag{5}$\n",
    "\n",
    "where $\\bar{x}$ is the mean of a sample drawn from a population.\n",
    "\n",
    "We'll test the means between 2 and 10 with standard deviations between 5 and 15, and sample sizes between 60 and 100 observations.\n",
    "\n"
   ]
  },
  {
   "cell_type": "code",
   "execution_count": 9,
   "metadata": {
    "collapsed": false
   },
   "outputs": [
    {
     "ename": "AttributeError",
     "evalue": "module 'utils.traditional' has no attribute 'cohen_d_one_sample'",
     "output_type": "error",
     "traceback": [
      "\u001b[0;31m---------------------------------------------------------------------------\u001b[0m",
      "\u001b[0;31mAttributeError\u001b[0m                            Traceback (most recent call last)",
      "\u001b[0;32m<ipython-input-9-c644f39fcb27>\u001b[0m in \u001b[0;36m<module>\u001b[0;34m()\u001b[0m\n\u001b[1;32m      7\u001b[0m                             \u001b[0;34m'test_parameters'\u001b[0m\u001b[0;34m:\u001b[0m \u001b[0;34m{\u001b[0m\u001b[0;34m'x0'\u001b[0m\u001b[0;34m:\u001b[0m \u001b[0;36m0\u001b[0m\u001b[0;34m}\u001b[0m\u001b[0;34m,\u001b[0m\u001b[0;34m\u001b[0m\u001b[0m\n\u001b[1;32m      8\u001b[0m                             \u001b[0;34m'emp_parameters'\u001b[0m\u001b[0;34m:\u001b[0m \u001b[0;34m{\u001b[0m\u001b[0;34m}\u001b[0m\u001b[0;34m,\u001b[0m\u001b[0;34m\u001b[0m\u001b[0m\n\u001b[0;32m----> 9\u001b[0;31m                             \u001b[0;34m'effect_size'\u001b[0m\u001b[0;34m:\u001b[0m \u001b[0mtrad\u001b[0m\u001b[0;34m.\u001b[0m\u001b[0mcohen_d_one_sample\u001b[0m\u001b[0;34m,\u001b[0m\u001b[0;34m\u001b[0m\u001b[0m\n\u001b[0m\u001b[1;32m     10\u001b[0m                              }\n",
      "\u001b[0;31mAttributeError\u001b[0m: module 'utils.traditional' has no attribute 'cohen_d_one_sample'"
     ]
    }
   ],
   "source": [
    "distributions['ttest_1'] = {'clean_name': 'One Sample T test',\n",
    "                            'emp_test_fun': emp_ttest_1,\n",
    "                            'trad_test_fun': trad.calc_ttest_1,\n",
    "                            'sim_function': sim.ttest_1_simulate,\n",
    "                            'sim_parameters': [[2, 10], [5, 15], [60, 100]],\n",
    "                            'other_sim_parameters': {},\n",
    "                            'test_parameters': {'x0': 0},\n",
    "                            'emp_parameters': {},\n",
    "                            'effect_size': trad.cohen_d_one_sample,\n",
    "                             }"
   ]
  },
  {
   "cell_type": "markdown",
   "metadata": {},
   "source": [
    "# Independent Sample T test\n",
    "\n",
    "he case II t test is a test for two independent samples, to determine if the samples are drawn from different distributions.\n",
    "\n",
    "$\\begin{matrix}\n",
    "\\textbf{H}_{0} & \\bar{x}_{1} = \\bar{x}_{2} \\\\\n",
    "\\textbf{H}_{1} & \\bar{x}_{1} \\neq \\bar{x}_{2}\\\\\n",
    "\\end{matrix} \\tag{6}$\n",
    "\n",
    "There are several ways to calculate this t statistic, but we will operate on the assumption that the two populations have different variances, giving the most extensibe calculation of the test statistic. So,\n",
    "\n",
    "$\\begin{align*}\n",
    "t &= \\frac{\\bar{x}_{1} - \\bar{x}_{2}}{\\sqrt{\\frac{s_{1}^{2}}{n_{1}} + \\frac{s_{2}^{2}}{n_{2}}}}\\\\\n",
    "&= \\frac{\\bar{x}_{1} - \\bar{x}_{2}}{\\sqrt{\\frac{n_{2}s_{1}^{2} + n_{1}s_{2}^{2}}{n_{1}n_{2}}}}\n",
    "\\end{align*}\\tag{7}$\n",
    "\n",
    "The t statistic follows a T distribution with $df$ degrees of freedom, where $df$ is given as\n",
    "$df = \\frac{(s_{1}^{2}/n_{1} + s_{2}^{2}/n_{2})^{2}}{(s_{1}^{2}/n_{1})^2/(n_{1}-1) + s_{2}^{2}/n_{2})^2/(n_{2}-1)} \\tag{8}$\n",
    "\n",
    "For the sake of simplicity, we'll assume that $n_{1} = n_{2}$, which allows us to redefine equation (7) as\n",
    "$\\begin{align*}\n",
    "t &= \\frac{(\\bar{x}_{1} - \\bar{x}_{2})}{\\sqrt{\\frac{s_{1}^{2}}{n} + \\frac{s_{2}^{2}}{n}}}\\\\\n",
    "&= \\frac{\\sqrt{n}(\\bar{x}_{1} - \\bar{x}_{2})}{\\sqrt{s_{1}^{2} + s_{2}^{2}}}\n",
    "\\end{align*}\\tag{9}$\n",
    "which means the test statitic is now drawn from a t distribution with df degrees of freedom, where\n",
    "df is defined as\n",
    "$\\begin{align*}\n",
    "df &= \\left (n-1 \\right ) \\left (\\frac{\\left (s_{1}^{2} + s_{2}^{2}  \\right )^{2}}{\\left (s_{1}^{2} \\right)^{2} + \\left (s_{2}^{2}  \\right )^{2}} \\right )\\\\\n",
    "\\end{align*}\\tag{10}$\n",
    "\n",
    "For the emperical test, we can use the `scipy.stats.ttest_ind` function, which will return a p value."
   ]
  },
  {
   "cell_type": "code",
   "execution_count": 8,
   "metadata": {
    "collapsed": true
   },
   "outputs": [],
   "source": [
    "def emp_ttest_ind(sample1, sample2):\n",
    "    \"\"\"Wraps a independent sample t test for power calculation\"\"\"\n",
    "    return scipy.stats.ttest_ind(sample1, sample2)[1]"
   ]
  },
  {
   "cell_type": "markdown",
   "metadata": {},
   "source": [
    "We again use Cohen's d for the effect size, although in this case, $s_{p}$ is substituted into equation (2.3) as the standard deviation, and we're looking at the difference of the two sample means. \n",
    "$\\begin{align*}\n",
    "s_{p} &= \\sqrt{\\frac{\\left (n_{1} - 1 \\right)s_{1}^{2} + \\left (n_{2} - 1 \\right)s_{2}^{2}}{n_{1} + n_{2} - 2}}\\\\\n",
    "&= \\sqrt{s_{1}^{2} + s_{2}^{2}}\n",
    "\\end{align*}\\tag{11}$\n",
    "$\\begin{align*}\n",
    "d = \\frac{\\bar{x}_{1} - \\bar{x}_{2}}{s_{p}}\n",
    "\\end{align*}\\tag{12}$\n",
    "\n",
    "This has been implemented in the `traditional` module to allow for testing."
   ]
  },
  {
   "cell_type": "markdown",
   "metadata": {},
   "source": [
    "The effect size, non-centrality parameter, for an independent sample t test where samples are the same size is once again related to the test statistic as\n",
    "$\\begin{align*}\n",
    "\\lambda &= \\frac{t}{\\sqrt{n}}\\\\\n",
    "&= \\left (\\frac{\\sqrt{n} \\left (\\bar{x}_{1} - \\bar{x}_{2} \\right )}{\\sqrt{s_{1}^{2} + s_{2}^{2}}} \\right ) \\left (\\frac{1}{\\sqrt{n}} \\right )\\\\\n",
    "&= \\left (\\frac{\\bar{x}_{1}^{2} - \\bar{x}_{2}^{2}}{\\sqrt{s_{1}^{2} + s_{2}^{2}}} \\right )\n",
    "\\end{align*}\\tag{13}$"
   ]
  },
  {
   "cell_type": "markdown",
   "metadata": {},
   "source": [
    "We will test distributions with means between 0 and 10, standard deviations between 5 and 15, and samples sizes between 60 and 100 observations."
   ]
  },
  {
   "cell_type": "code",
   "execution_count": 9,
   "metadata": {
    "collapsed": true
   },
   "outputs": [],
   "source": [
    "def ttest_ind_simulate(mu_lim, sigma_lim, counts_lims):\n",
    "    \"\"\"Simulates data for an independent sample t test\"\"\"\n",
    "    # Gets the distribution paramters\n",
    "    mu1, mu2 = np.random.randint(*mu_lim, size=2)\n",
    "    sigma1, sigma2 = np.random.randint(*sigma_lim, size=2)\n",
    "    n = np.random.randint(*counts_lims)\n",
    "    \n",
    "    # Returns a pair of distributions\n",
    "    samples =  [mu1 + np.random.randn(n) * sigma1, mu2 + np.random.randn(n) * sigma2]\n",
    "    return [mu1, mu2, sigma1, sigma2, n], samples"
   ]
  },
  {
   "cell_type": "code",
   "execution_count": 10,
   "metadata": {
    "collapsed": false
   },
   "outputs": [],
   "source": [
    "distributions['ttest_ind'] = {'clean_name': 'Two Sample T test',\n",
    "                              'emp_parameters': {},\n",
    "                              'emp_test_fun': emp_ttest_ind,\n",
    "                              'other_sim_parameters': {},\n",
    "                              'sim_function': ttest_ind_simulate,\n",
    "                              'sim_parameters': [[0, 10], [5, 15], [60, 100]],\n",
    "                              'test_parameters': {},\n",
    "                              'trad_test_fun': trad.calc_ttest_ind,     \n",
    "                              'effect_size': trad.cohen_ttest_ind\n",
    "                              }"
   ]
  },
  {
   "cell_type": "markdown",
   "metadata": {},
   "source": [
    "# One way Analysis of Variance\n",
    "\n",
    "ssume there exist a set of samples, $\\{S_{1}, S_{2}, ..., S_{k} \\}$ where there are a total of $N$ observations distributed over the $k$ groups. The $i$th sample, $S_{i}$ contains $n_{i}$ observations, and has a mean of $\\bar{x}_{.i}$ and a standard deviation, $s_{i}$ where\n",
    "\n",
    "$\\begin{align*}\n",
    "s_{i} = \\sqrt{\\frac{\\sum_{j=1}^{n}{\\left (x_{ij} - \\bar{x}_{.i} \\right)^{2}}}{n_{i}-1}}\n",
    "\\end{align*}\\tag{14}$\n",
    "\n",
    "A one-way Analysis of Variance (ANOVA) tests that at least one sample mean in a set of three or more are not equal. Assume that \n",
    "\n",
    "$\\begin{matrix}\n",
    "\\textbf{H}_{0} & \\bar{x}_{1} = \\bar{x}_{2} = ... \\bar{x}_{k} & \\\\\n",
    "\\textbf{H}_{1} & \\bar{x}_{i} \\neq \\bar{x}_{j} & \\exists i,j \\epsilon [1, k], i \\neq j\n",
    "\\end{matrix} \\tag{15}$"
   ]
  },
  {
   "cell_type": "markdown",
   "metadata": {},
   "source": [
    "The test statistic for ANOVA is given by\n",
    "$\\begin{align*}\n",
    "F &= \\frac{\\frac{\\textrm{SS}_{\\textrm{between}}}{\\textrm{DF}_{\\textrm{between}}}}{\\frac{\\textrm{SS}_{\\textrm{within}}}{\\textrm{DF}_{\\textrm{within}}}}\n",
    "\\end{align*}\\tag{16}$\n",
    "\n",
    "where\n",
    "$\\begin{align*}\n",
    "\\textrm{SS}_{\\textrm{total}} &= \\sum_{i=1}^{k}{\\sum_{j=1}^{n_{i}}{\\left (x_{ij} - \\bar{x}_{..} \\right )^{2}}}\\\\\n",
    "\\textrm{SS}_{\\textrm{between}} &= \\sum_{i=1}^{k}{n_{i}\\left (\\bar{x}_{.i} - \\bar{x}_{..} \\right )^{2}}\\\\\n",
    "\\textrm{SS}_{\\textrm{within}} &= \\sum_{i=1}^{k}{\\left [ \\sum_{j=1}^{n_{i}}{\\left (x_{ij} - \\bar{x}_{.i} \\right )^{2}}\\right ]}\n",
    "\\end{align*}\\tag{17}$\n",
    "\n",
    "$\\begin{align*}\n",
    "\\textrm{DF}_{\\textrm{total}} &= N - 1\\\\\n",
    "\\textrm{DF}_{\\textrm{between}} &= k - 1\\\\\n",
    "\\textrm{DF}_{\\textrm{within}} &= N - k\n",
    "\\end{align*}\\tag{18}$\n",
    "\n",
    "$\\begin{align*}\n",
    "\\textrm{SS}_{\\textrm{total}} = \\textrm{SS}_{\\textrm{between}} + \\textrm{SS}_{\\textrm{within}}\n",
    "\\end{align*}\\tag{19}$\n",
    "\n",
    "$\\begin{align*}\n",
    "\\textrm{DF}_{\\textrm{total}} = \\textrm{DF}_{\\textrm{between}} + \\textrm{DF}_{\\textrm{within}}\n",
    "\\end{align*}\\tag{20}$\n",
    "\n",
    "and test statistic is drawn from an $F$ distribution with $k - 1$ and $N - k$ degrees of freedom [[1](#Zar)]."
   ]
  },
  {
   "cell_type": "code",
   "execution_count": 11,
   "metadata": {
    "collapsed": true
   },
   "outputs": [],
   "source": [
    "def emp_anova(*samples):\n",
    "    \"\"\"Wraps a one way ANOVA for power calculation\"\"\"\n",
    "    return scipy.stats.f_oneway(*samples)[1]"
   ]
  },
  {
   "cell_type": "markdown",
   "metadata": {},
   "source": [
    "For an analysis of variance, the effect size is given by\n",
    "$\\begin{align*}\n",
    "f &= \\sqrt{\\frac{\\sum_{i=1}^{k}{\\left (\\bar{x}_{.i} - \\bar{x}_{..} \\right )^{2}}}{ks^2}}\\\\\n",
    "\\end{align*}\\tag{21}$"
   ]
  },
  {
   "cell_type": "markdown",
   "metadata": {},
   "source": [
    "Under the alternatively hypothesis, the non-centrality $F'$ is given by\n",
    "\n",
    "$\\begin{align*}\n",
    "F' = \\left(\\frac{\\textrm{SS}_{\\textrm{between}}}{\\textrm{SS}_{\\textrm{within}}} \\right) \\left (\\frac{\\textrm{DF}_{\\textrm{within}}}{\\textrm{DF}_{\\textrm{between}}}{} \\right )\n",
    "\\end{align*}\\tag{22}$\n",
    "\n",
    "For a given pair of hypotheses, the noncentrality parameter is defined according to equation (2.4), where the grand mean can be substituted for the the test mean. The overall effect size is therefore given as\n",
    "$\\begin{align*}\n",
    "\\lambda &= \\sum_{i=1}^{k}{\\lambda_{i}^{2}}\\\\\n",
    "&= \\sum_{i=1}^{k}\\left (\\frac{\\bar{x}_{i} - \\bar{x}_{..}}{s_{i}} \\right )^{2} \n",
    "\\end{align*} \\tag{23}$"
   ]
  },
  {
   "cell_type": "markdown",
   "metadata": {},
   "source": [
    "We will simulate an ANOVA between 3 samples with means between 0 and 10, a common standard deviation between 5 and 15, and between 60 and 100 observations per sample."
   ]
  },
  {
   "cell_type": "code",
   "execution_count": 10,
   "metadata": {
    "collapsed": true
   },
   "outputs": [],
   "source": [
    "def anova_simulation(mu_lim, sigma_lim, count_lims, num_pops):\n",
    "    \"\"\"Simulates data for a one way ANOVA\"\"\"\n",
    "    # Defines the distribtuion parameters\n",
    "    mus = np.random.randint(*mu_lim, size=num_pops)\n",
    "    sigma = np.random.randint(*sigma_lim)\n",
    "    n = np.random.randint(*count_lims)\n",
    "    \n",
    "    # Draws samples which fit the population\n",
    "    samples = [mu + np.random.randn(n)*sigma for mu in mus]\n",
    "    \n",
    "    return [mus, sigma, n], samples"
   ]
  },
  {
   "cell_type": "code",
   "execution_count": 12,
   "metadata": {
    "collapsed": false
   },
   "outputs": [
    {
     "data": {
      "text/plain": [
       "[array([ 0.865307  ,  2.42238577,  2.9097923 ,  1.20446501, -0.41135187,\n",
       "         2.82642959,  3.61812261,  3.09582737,  0.595979  ,  1.00288098]),\n",
       " array([-0.23554384,  0.39396689,  2.26449758, -0.38587507, -0.45530388,\n",
       "         0.84384069, -0.89901421,  2.26185087,  1.16407426,  0.54217753]),\n",
       " array([ 3.57241728,  3.44345288,  4.0539743 ,  6.47170092,  4.77829176,\n",
       "         5.48086408,  4.24584553,  4.83578695,  4.59053566,  3.96303158])]"
      ]
     },
     "execution_count": 12,
     "metadata": {},
     "output_type": "execute_result"
    }
   ],
   "source": [
    "params, samples = anova_simulation([0, 5], [1, 2], [10, 11], 3)\n",
    "samples"
   ]
  },
  {
   "cell_type": "code",
   "execution_count": 13,
   "metadata": {
    "collapsed": false,
    "scrolled": true
   },
   "outputs": [
    {
     "data": {
      "text/plain": [
       "2.3020136519395651"
      ]
     },
     "execution_count": 13,
     "metadata": {},
     "output_type": "execute_result"
    }
   ],
   "source": [
    "np.concatenate(samples).mean()"
   ]
  },
  {
   "cell_type": "code",
   "execution_count": 17,
   "metadata": {
    "collapsed": false
   },
   "outputs": [
    {
     "data": {
      "text/plain": [
       "117.73006792127138"
      ]
     },
     "execution_count": 17,
     "metadata": {},
     "output_type": "execute_result"
    }
   ],
   "source": [
    "np.sum(np.square(np.hstack(samples) - np.concatenate(samples).mean()))"
   ]
  },
  {
   "cell_type": "code",
   "execution_count": 13,
   "metadata": {
    "collapsed": false
   },
   "outputs": [],
   "source": [
    "distributions['anova'] = {'clean_name': \"One way ANOVA\",\n",
    "                          'emp_parameters': {},\n",
    "                          'emp_test_fun': emp_anova,\n",
    "                          'other_sim_parameters': {'num_pops': 3},\n",
    "                          'sim_function': anova_simulation,\n",
    "                          'sim_parameters': [[0, 10], [5, 15], [60, 100]],\n",
    "                          'test_parameters': {},\n",
    "                          'trad_test_fun': trad.calc_anova,\n",
    "                          'effect_size': trad.cohen_f2\n",
    "                           }"
   ]
  },
  {
   "cell_type": "markdown",
   "metadata": {},
   "source": [
    "# Pearsons Correlation Coeffecient\n",
    "\n",
    "Pearson's correlation coeffecient looks for a linear one-to-one relationship between two vectors, $x$ and $y$, both of size $n$. Closely related vectors have a correlation coeffecient with an absloute value of 1, unrelated data have a correlation coeffecient of 0.\n",
    "\n",
    "The correlation coeffecient between the two vectors is given by\n",
    "$\\begin{align*}\n",
    "r = \\frac{\\sum{xy}}{\\sqrt{\\sum{x^{2}}\\sum{y^{2}}}}\n",
    "\\end{align*}\\tag{25}$\n",
    "\n",
    "We can test the hypotheses,\n",
    "$\\begin{matrix}\n",
    "\\textbf{H}_{0} & r = 0 \\\\\n",
    "\\textbf{H}_{1} & r \\neq 0\\\\\n",
    "\\end{matrix} \\tag{26}$\n",
    "with a test statistic drawn from the $t$ distribution with $n - 2$ degrees of freedom. The statistic is calculated as\n",
    "$\\begin{align*}\n",
    "t = \\frac{r\\sqrt{n-2}}{\\sqrt{1 - r^{2}}}\n",
    "\\end{align*}\\tag{27}$\n",
    "\n",
    "Scipy's `scipy.stats.pearsonr` can calculate the correlation coeffecient *and* a p value for the coeffecient."
   ]
  },
  {
   "cell_type": "code",
   "execution_count": 14,
   "metadata": {
    "collapsed": true
   },
   "outputs": [],
   "source": [
    "def emp_pearson(*samples):\n",
    "    \"\"\"Wraps pearsons correlation coeffecient for power testing\"\"\"\n",
    "    return scipy.stats.pearsonr(*samples)[1]"
   ]
  },
  {
   "cell_type": "markdown",
   "metadata": {},
   "source": [
    "It would be nice to have an effect size?"
   ]
  },
  {
   "cell_type": "markdown",
   "metadata": {},
   "source": [
    "The noncentrality parameter for pearson's correaltion coeffecient is given by\n",
    "$\\begin{align}\n",
    "\\lambda = \\frac{r_{xy}\\sqrt{n}}{\\sqrt{1 - r_{xy}^{2}}}\n",
    "\\end{align}\\tag{28}$\n",
    "\n",
    "And the data is drawn from a t distribution.\n",
    "\n",
    "The noncentrality parameter and power have been implemented in the `traditional` module."
   ]
  },
  {
   "cell_type": "markdown",
   "metadata": {},
   "source": [
    "We're going to simulate regressions with slopes between 1 and 5, intercepts between -2 and 2, and normally distributed residuals with standard deviations between 10 and 100. There will be between 60 and 100 observations in each of the samples. We'll use `regress_simulate` to generate the distributions."
   ]
  },
  {
   "cell_type": "code",
   "execution_count": 15,
   "metadata": {
    "collapsed": true
   },
   "outputs": [],
   "source": [
    "def regress_simulate(mu_lim, sigma_lim, count_lims, b_lims):\n",
    "    \"\"\"Simulates data for a one way ANOVA\"\"\"\n",
    "    # Calculates the distribution for the residuals\n",
    "    sigma = np.random.randint(*sigma_lim)\n",
    "    n = np.random.randint(*count_lims)\n",
    "    # Calculates the parameters for the line\n",
    "    m = np.random.randint(*mu_lim)\n",
    "    b = np.random.randint(*b_lims)\n",
    "    \n",
    "    x = np.arange(-n, n, 2)\n",
    "    y = m*x + b + np.random.randn(n)*sigma\n",
    "    \n",
    "    return [sigma, n, m, b], [x, y]"
   ]
  },
  {
   "cell_type": "code",
   "execution_count": 16,
   "metadata": {
    "collapsed": false
   },
   "outputs": [],
   "source": [
    "distributions['pearson'] = {'clean_name': \"Pearson's R\",\n",
    "                            'emp_parameters': {'draw_mode': 'matched'},\n",
    "                            'emp_test_fun': emp_pearson,\n",
    "                            'other_sim_parameters':{'b_lims':[-2, 2]},\n",
    "                            'sim_function': regress_simulate,\n",
    "                            'sim_parameters': [[1, 5], [60, 100], [60, 100]],\n",
    "                            'test_parameters': {},\n",
    "                            'trad_test_fun': trad.calc_pearson,\n",
    "                            }"
   ]
  },
  {
   "cell_type": "markdown",
   "metadata": {},
   "source": [
    "# Simulations\n",
    "\n",
    "Now, we're going to build the simulations using the distribution set up described here."
   ]
  },
  {
   "cell_type": "code",
   "execution_count": 56,
   "metadata": {
    "collapsed": false
   },
   "outputs": [
    {
     "name": "stdout",
     "output_type": "stream",
     "text": [
      "pearson\n",
      "ttest_ind\n",
      "ttest_1\n",
      "anova\n"
     ]
    }
   ],
   "source": [
    "if not os.path.exists('simulations/normal'):\n",
    "    os.makedirs('simulations/normal')\n",
    "\n",
    "for k, params in distributions.iteritems():\n",
    "    print k\n",
    "    results = {'clean_name': params['clean_name'],\n",
    "               }\n",
    "    for i in xrange(100):\n",
    "        # Calculates the samples\n",
    "        pop_params, samples = params['sim_function'](*params['sim_parameters'], \n",
    "                                                     **params['other_sim_parameters'])\n",
    "        # Calculates the traditional power\n",
    "        trad_power = params['trad_test_fun'](*samples, \n",
    "                                             counts=counts, \n",
    "                                             **params['test_parameters'])\n",
    "        #  Calculates the emperical power\n",
    "        empr_power, empr_counts = subsample_power(\n",
    "            lambda x: params['emp_test_fun'](*x, **params['test_parameters']),\n",
    "            samples,\n",
    "            min_counts=5,\n",
    "            max_counts=55,\n",
    "            counts_interval=10,\n",
    "            num_runs=3,\n",
    "            num_iter=100,\n",
    "            **params['emp_parameters']\n",
    "            )\n",
    "        # calculates the effect sizes\n",
    "        if 'effect_size' in params:\n",
    "            base_eff = params['effect_size'](*samples)\n",
    "        else:\n",
    "            base_eff = None\n",
    "\n",
    "        # Updates the information\n",
    "        results[i] = {'pop_params': pop_params,\n",
    "                      'samples': samples,\n",
    "                      'test_power': trad_power,\n",
    "                      'emprical_power': empr_power,\n",
    "                      'emprical_counts': empr_counts,\n",
    "                      'base_effect': base_eff,\n",
    "                     }\n",
    "        \n",
    "    filename = os.path.join('simulations/normal', '%s.p' % k)\n",
    "    with open(filename, 'w') as f_:\n",
    "        pickle.dump(results, f_)"
   ]
  }
 ],
 "metadata": {
  "kernelspec": {
   "display_name": "Python 3",
   "language": "python",
   "name": "python3"
  },
  "language_info": {
   "codemirror_mode": {
    "name": "ipython",
    "version": 3
   },
   "file_extension": ".py",
   "mimetype": "text/x-python",
   "name": "python",
   "nbconvert_exporter": "python",
   "pygments_lexer": "ipython3",
   "version": "3.5.1"
  }
 },
 "nbformat": 4,
 "nbformat_minor": 0
}
