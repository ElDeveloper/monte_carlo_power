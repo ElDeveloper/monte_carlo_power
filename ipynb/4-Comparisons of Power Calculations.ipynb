{
 "cells": [
  {
   "cell_type": "markdown",
   "metadata": {},
   "source": [
    "In the past two notebooks, we have simulated parametric data, and calculated emperical power for these simulations. Here, we'll compare the performance of the distribution-based power, empercial power and power calculated using the curve fitting parameter."
   ]
  },
  {
   "cell_type": "code",
   "execution_count": 1,
   "metadata": {
    "collapsed": false
   },
   "outputs": [],
   "source": [
    "import os\n",
    "import pickle\n",
    "import warnings\n",
    "\n",
    "import matplotlib.pyplot as plt\n",
    "import numpy as np\n",
    "import pandas as pd\n",
    "import seaborn as sn\n",
    "\n",
    "import emp_power.traditional as trad\n",
    "import emp_power.effects as eff\n",
    "import emp_power.plot as plot\n",
    "import emp_power.summarize as summarize\n",
    "\n",
    "% matplotlib inline\n",
    "sn.set_style('ticks')"
   ]
  },
  {
   "cell_type": "code",
   "execution_count": 2,
   "metadata": {
    "collapsed": true
   },
   "outputs": [],
   "source": [
    "warnings.filterwarnings('ignore')"
   ]
  },
  {
   "cell_type": "markdown",
   "metadata": {},
   "source": [
    "We've performed 100 simulations, which are stored in the simulation directory."
   ]
  },
  {
   "cell_type": "code",
   "execution_count": 3,
   "metadata": {
    "collapsed": true
   },
   "outputs": [],
   "source": [
    "num_rounds = 100\n",
    "\n",
    "sim_location = './simulations'\n",
    "if not os.path.exists(sim_location):\n",
    "    raise ValueError('The power simulations do not exist.'\n",
    "                     'Please go back to notebooks 2 and 3 and'\n",
    "                     'calculate power.'\n",
    "                     )\n",
    "return_dir = os.path.join(sim_location, 'extrapolation')\n",
    "if not os.path.exists(return_dir):\n",
    "    os.makedirs(return_dir)"
   ]
  },
  {
   "cell_type": "markdown",
   "metadata": {},
   "source": [
    "We'll fit our power curves using a power value of 0.05, and calculate the fitted curves using the same value. This was the critical value used to calculate distribution-based and emperical power."
   ]
  },
  {
   "cell_type": "code",
   "execution_count": 4,
   "metadata": {
    "collapsed": true
   },
   "outputs": [],
   "source": [
    "alpha = 0.05"
   ]
  },
  {
   "cell_type": "markdown",
   "metadata": {},
   "source": [
    "Power in previous notebooks was calculated with between 5 and 95 observations, with 10 observation steps."
   ]
  },
  {
   "cell_type": "code",
   "execution_count": 5,
   "metadata": {
    "collapsed": true
   },
   "outputs": [],
   "source": [
    "counts = np.arange(5, 100, 10)"
   ]
  },
  {
   "cell_type": "markdown",
   "metadata": {},
   "source": [
    "We'll use the spectral colormap, scaled by the count depth."
   ]
  },
  {
   "cell_type": "code",
   "execution_count": 6,
   "metadata": {
    "collapsed": false
   },
   "outputs": [],
   "source": [
    "colormap = 'Spectral'\n",
    "\n",
    "colors = {count: list(sn.color_palette(colormap, n_colors=len(counts))[i])\n",
    "          for (i, count) in enumerate(counts)}\n",
    "# check_color = {count: list(colors[i]) for i, count in enumerate(counts)}"
   ]
  },
  {
   "cell_type": "markdown",
   "metadata": {},
   "source": [
    "We'll look at effect sizes calculated based on the f, t, and z distributions."
   ]
  },
  {
   "cell_type": "code",
   "execution_count": 7,
   "metadata": {
    "collapsed": true
   },
   "outputs": [],
   "source": [
    "effect_types = ['f', 't', 'z']"
   ]
  },
  {
   "cell_type": "markdown",
   "metadata": {},
   "source": [
    "We'll compare the behavior of distribution-based power, emperical power and the power calculated from curve fitting on the parametric tests. We can compare the behavior of emperical power, and power fit to emperical values for all tests."
   ]
  },
  {
   "cell_type": "code",
   "execution_count": 8,
   "metadata": {
    "collapsed": true
   },
   "outputs": [],
   "source": [
    "parametric_tests = ['ttest_1', 'ttest_ind', 'anova_3', 'anova_8', 'correlation']\n",
    "all_tests = ['ttest_1', 'ttest_ind', 'anova_3', 'anova_8', 'permanova', 'correlation', 'mantel']"
   ]
  },
  {
   "cell_type": "markdown",
   "metadata": {},
   "source": [
    "Finally, we'll create a set of parameters for each of the distributions being evaluated. This includes the clean name, which provides a prettier title in plots, the number of groups in the tested (2 for everything except the ANOVAs), and the location of both the input emperical power calculations and output summary tables."
   ]
  },
  {
   "cell_type": "code",
   "execution_count": 9,
   "metadata": {
    "collapsed": false
   },
   "outputs": [],
   "source": [
    "distributions = {'ttest_1': {'clean_name': 'One Sample\\nT Test',\n",
    "                               'num_groups': 2,\n",
    "                               'input_dir': './simulations/power/ttest_1/',\n",
    "                               'return_fp': './simulations/extrapolation/ttest_1.txt'\n",
    "                               },\n",
    "                 'ttest_ind': {'clean_name': 'Independent Sample\\n T Test',\n",
    "                               'num_groups': 2,\n",
    "                               'input_dir': './simulations/power/ttest_ind',\n",
    "                               'return_fp': './simulations/extrapolation/ttest_ind.txt'\n",
    "                               },\n",
    "                 'anova_3': {'clean_name': 'One way ANOVA\\n(3 groups)',\n",
    "                             'num_groups': 3,\n",
    "                             'input_dir': './simulations/power/anova_3',\n",
    "                             'return_fp': './simulations/extrapolation/anova_3.txt'\n",
    "                             },\n",
    "                 'anova_8': {'clean_name': 'One way ANOVA\\n(8 groups)',\n",
    "                             'num_groups': 8,\n",
    "                             'input_dir': './simulations/power/anova_8',\n",
    "                             'return_fp': './simulations/extrapolation/anova_8.txt'\n",
    "                             },\n",
    "                 'correlation': {'clean_name': 'Correlation',\n",
    "                                 'num_groups': 2,\n",
    "                                 'input_dir': './simulations/power/correlation',\n",
    "                                 'return_fp': './simulations/extrapolation/correlation.txt'\n",
    "                                 },\n",
    "                 'permanova': {'clean_name': 'PERMANOVA',\n",
    "                               'num_groups': 2,\n",
    "                               'input_dir': './simulations/power/permanova/',\n",
    "                               'return_fp': './simulations/extrapolation/permanova.txt'\n",
    "                               },\n",
    "                 'mantel': {'clean_name': 'Mantel',\n",
    "                            'num_groups': 2,\n",
    "                            'input_dir': './simulations/power/mantel/',\n",
    "                            'return_fp': './simulations/extrapolation/mantel.txt'\n",
    "                            },\n",
    "                 }"
   ]
  },
  {
   "cell_type": "markdown",
   "metadata": {},
   "source": [
    "We'll start by calculating the emperical and extrapolated effect sizes for the parametric tests."
   ]
  },
  {
   "cell_type": "code",
   "execution_count": 10,
   "metadata": {
    "collapsed": false
   },
   "outputs": [],
   "source": [
    "for test_name in all_tests:\n",
    "    power_dir = distributions[test_name]['input_dir']\n",
    "    num_groups = distributions[test_name]['num_groups']\n",
    "    return_fp = distributions[test_name]['return_fp']\n",
    "    \n",
    "    if not os.path.exists(power_dir):\n",
    "        raise ValueError('%s does not exist' % power_dir)\n",
    "        \n",
    "    summaries = []\n",
    "    \n",
    "    # Loops through the rounds\n",
    "    for i in range(num_rounds):\n",
    "        # Loads through the power simulation for the round\n",
    "        power_fp = os.path.join(power_dir, 'simulation_%i.p' % i)\n",
    "        \n",
    "        with open(power_fp, 'rb') as f_:\n",
    "            sim = pickle.load(f_)\n",
    "        if 'alpha' not in sim:\n",
    "            sim['alpha'] = 0.05\n",
    "        \n",
    "        # Pulls the previously calculated power values\n",
    "        run_summary = summarize.summarize_power(power_summary=sim,\n",
    "                                                sim_num=i,\n",
    "                                                test=test_name,\n",
    "                                                colors=colors,\n",
    "                                                dists=effect_types,\n",
    "                                                num_groups=num_groups,\n",
    "                                               )\n",
    "        summaries.append(pd.DataFrame(run_summary))\n",
    "    summaries = pd.concat(summaries)\n",
    "    summaries.to_csv(return_fp, sep='\\t')\n",
    "    distributions[test_name]['summary'] = summaries\n"
   ]
  },
  {
   "cell_type": "code",
   "execution_count": 11,
   "metadata": {
    "collapsed": false
   },
   "outputs": [
    {
     "data": {
      "text/plain": [
       "{'alpha': 0.05,\n",
       " 'counts': array([ 5, 15, 25, 35, 45, 55, 65, 75]),\n",
       " 'depth': 99,\n",
       " 'emperical_power': array([[ 0.27,  0.84,  0.97,  1.  ,  1.  ,  1.  ,  1.  ,  1.  ],\n",
       "        [ 0.16,  0.86,  1.  ,  1.  ,  1.  ,  1.  ,  1.  ,  1.  ],\n",
       "        [ 0.18,  0.88,  1.  ,  1.  ,  1.  ,  1.  ,  1.  ,  1.  ],\n",
       "        [ 0.27,  0.88,  1.  ,  1.  ,  1.  ,  1.  ,  1.  ,  1.  ],\n",
       "        [ 0.25,  0.88,  0.99,  1.  ,  1.  ,  1.  ,  1.  ,  1.  ]]),\n",
       " 'num_obs': 88,\n",
       " 'original_p': 0.01,\n",
       " 'traditional_power': None}"
      ]
     },
     "execution_count": 11,
     "metadata": {},
     "output_type": "execute_result"
    }
   ],
   "source": [
    "sim"
   ]
  },
  {
   "cell_type": "code",
   "execution_count": null,
   "metadata": {
    "collapsed": false
   },
   "outputs": [],
   "source": [
    "counts = sim['counts']\n",
    "emperical = sim['emperical_power']\n",
    "(empr_r, empr_c) = emperical.shape"
   ]
  },
  {
   "cell_type": "code",
   "execution_count": null,
   "metadata": {
    "collapsed": false
   },
   "outputs": [],
   "source": [
    "sim['emperical_power'].shape"
   ]
  },
  {
   "cell_type": "markdown",
   "metadata": {},
   "source": [
    "We're going to plot a comparison between the emperical and traditional power calculations, to see if there's a strong relationship. We'll plot the distribution-based power on the x axis and the emperical power on the y axis."
   ]
  },
  {
   "cell_type": "code",
   "execution_count": null,
   "metadata": {
    "collapsed": false
   },
   "outputs": [],
   "source": [
    "# Sets up the figure and axes\n",
    "tr_fig, tr_axes = plt.subplots(4, 5)\n",
    "tr_fig.set_size_inches(10, 8)\n",
    "\n",
    "# Hides the axes until they're needed\n",
    "for ax_r in tr_axes[1:]:\n",
    "    for ax in ax_r:\n",
    "        ax.set_visible(False)\n",
    "\n",
    "sn.despine()\n",
    "\n",
    "for idx, (test_name, ax) in enumerate(zip(*(parametric, tr_axes[0]))):\n",
    "    summary = distributions[test_name]['summary']\n",
    "    plot.gradient_regression(ax, y='emperical', \n",
    "                             x='traditional', \n",
    "                             gradient='colors', \n",
    "                             data=summary, \n",
    "                             alpha=0.25)\n",
    "    plot.format_regression_axis(ax)\n",
    "    ax.set_title(distributions[test_name]['clean_name'])\n",
    "    ax.set_xticklabels(ax.get_xticks())\n",
    "tr_axes[0][0].set_yticklabels(ax.get_yticks())\n",
    "tr_axes[0][0].set_ylabel('Emperical Power')\n",
    "tr_axes[0][2].set_xlabel('Traditional Power')"
   ]
  },
  {
   "cell_type": "markdown",
   "metadata": {},
   "source": [
    "We can also look at the fit data behaves. So, we'll add an additional three rows to the plot, which show the "
   ]
  },
  {
   "cell_type": "code",
   "execution_count": null,
   "metadata": {
    "collapsed": false,
    "scrolled": false
   },
   "outputs": [],
   "source": [
    "for ax_r in tr_axes[1:]:\n",
    "    for ax in ax_r:\n",
    "        ax.set_visible(True)\n",
    "for ax in tr_axes[0]:\n",
    "    ax.set_xticklabels('')\n",
    "    ax.set_xlabel('')\n",
    "    \n",
    "for idc, test_name in enumerate(tests):\n",
    "    summary = distributions[test_name]['summary']\n",
    "    for metric, ax_reg in zip(*[extrapolated, tr_axes.T[idc][1:]]):\n",
    "        plot.gradient_regression(ax=ax_reg, \n",
    "                            x='traditional', \n",
    "                            y='%s_power' % metric, \n",
    "                            gradient='colors', \n",
    "                            alpha=0.25,\n",
    "                            data=summary\n",
    "                            )\n",
    "        plot.format_regression_axis(ax_reg)\n",
    "        if metric == 'z':\n",
    "            ax_reg.set_xticklabels(ax_reg.get_xticks())\n",
    "        if test_name == tests[0]:\n",
    "            ax_reg.set_yticklabels(ax_reg.get_yticks())\n",
    "            ax_reg.set_ylabel('%s Power' % metric.replace('_', ' ').capitalize())\n",
    "        \n",
    "tr_axes[-1][2].set_xlabel('Distribution-based Power')\n",
    "tr_fig"
   ]
  },
  {
   "cell_type": "markdown",
   "metadata": {},
   "source": [
    "For most of the effect sizes and fits, we find the behavior of the curve \n",
    "\n",
    "Let's also compare the behavior of the emperical power and the fit power curves. "
   ]
  },
  {
   "cell_type": "code",
   "execution_count": null,
   "metadata": {
    "collapsed": false
   },
   "outputs": [],
   "source": [
    "# Sets up the figure and axes\n",
    "er_fig, er_axes = plt.subplots(3, 5)\n",
    "er_fig.set_size_inches(10, 6)\n",
    "sn.despine()\n",
    "\n",
    "for idc, test_name in enumerate(tests):\n",
    "    summary = distributions[test_name]['summary']\n",
    "    for metric, ax_reg in zip(*[extrapolated, er_axes.T[idc]]):\n",
    "        plot.gradient_regression(ax=ax_reg, \n",
    "                            x='emperical', \n",
    "                            y='%s_power' % metric, \n",
    "                            gradient='colors', \n",
    "                            alpha=0.25,\n",
    "                            data=summary\n",
    "                            )\n",
    "        plot.format_regression_axis(ax_reg)\n",
    "        if metric == 'z_power':\n",
    "            ax_reg.set_xticklabels(ax_reg.get_xticks())\n",
    "        if test_name == tests[0]:\n",
    "            ax_reg.set_yticklabels(ax_reg.get_yticks())\n",
    "            ax_reg.set_ylabel('%s Power' % metric.replace('_', ' ').capitalize())\n",
    "        \n",
    "er_axes[-1][2].set_xlabel('Emperical Power')"
   ]
  },
  {
   "cell_type": "markdown",
   "metadata": {},
   "source": [
    "Based on the color by depth, it looks like the emperical power and extrapolated values do not behave as well at lower count values. We can recalculate the fit curves excluding these lower values, to see if this improves the fit. We'll exclude points with less tahn 5 observations and emperical values between less than 0.05 or greater than 0.95, as the percentage point functions tend towards aspmototic values at thoses extremes."
   ]
  },
  {
   "cell_type": "code",
   "execution_count": null,
   "metadata": {
    "collapsed": false
   },
   "outputs": [],
   "source": [
    "# Sets up the figure and axes\n",
    "em_fig, em_axes = plt.subplots(3, 5)\n",
    "em_fig.set_size_inches(10, 6)\n",
    "\n",
    "sn.despine()\n",
    "\n",
    "for idx, (test_name, ax) in enumerate(zip(*(tests, em_axes[0]))):\n",
    "    summary = distributions[test_name]['summary']\n",
    "    drop_index = summary.index[((summary['counts'] == 5) | \n",
    "                                (summary['emperical'] < 0.05) | \n",
    "                                (summary['emperical'] > 0.95))]\n",
    "    mod = summarize.modify_effect_size(summary, drop_index, extrapolated)\n",
    "    mod.loc[mod['counts'] == 5, 'emperical'] = np.nan\n",
    "    for metric, ax_reg in zip(*[extrapolated, em_axes.T[idx]]):\n",
    "        plot.gradient_regression(ax=ax_reg, \n",
    "                                 x='emperical', \n",
    "                                 y='%s_power' % metric, \n",
    "                                 gradient='colors', \n",
    "                                 alpha=0.25,\n",
    "                                 data=mod\n",
    "                                 )\n",
    "        plot.format_regression_axis(ax_reg)\n",
    "        if metric == 'z_power':\n",
    "            ax_reg.set_xticklabels(ax_reg.get_xticks())\n",
    "        if test_name == tests[0]:\n",
    "            ax_reg.set_yticklabels(ax_reg.get_yticks())\n",
    "            ax_reg.set_ylabel(\n",
    "                '%s Power' % metric.replace('_', ' ').capitalize()\n",
    "                )"
   ]
  },
  {
   "cell_type": "markdown",
   "metadata": {},
   "source": [
    "The exclusion of the first set of emperical points appears to slightly improve the fit of the dataset. However, for smaller datasets, it may be worth the uncertainty assoicated with the extreme values, as long as th majority of values are not extreme."
   ]
  },
  {
   "cell_type": "markdown",
   "metadata": {},
   "source": [
    "We also notice that the F distribution with $k - 1$ degrees of freedom does not behave well for the 8 group ANOVA. With fewer groups, the F distribution behaves simillarly to the T and Z distribution. However, as the number of groups increase, the distribution does not behave appropriately. This suggests that the power calculation may be better approximated by assuming a normal distribution than using the approximation based on group size."
   ]
  },
  {
   "cell_type": "markdown",
   "metadata": {},
   "source": [
    "Finally, an additional consideration in selecting the appropriate effect size metric is to determine how frequently a particular metric cannot be defined."
   ]
  },
  {
   "cell_type": "code",
   "execution_count": null,
   "metadata": {
    "collapsed": false
   },
   "outputs": [],
   "source": [
    "all_tests = pd.concat([distributions[test_name]['summary'] for test_name in tests])\n",
    "all_tests.groupby('test').count()[['f_effect', 't_effect', 'z_effect']] / 3000"
   ]
  },
  {
   "cell_type": "markdown",
   "metadata": {},
   "source": [
    "So, in this notebook we have demonstrated that emperically calculated power behaves as well as distribution-based calculations for parametric distributions. We've furthermore observed that fitting the emperical curves with effect size parameters generates power curves which closely fit both the distribution and emperical data. However, we find the performance o the different fitting approaches varies. \n",
    "\n",
    "The calculation based on the z distribution is the most robust, while the calculation based on the F distribution is the least robust, where robustness is measured as the percentgae of calculations where power could not be calculated."
   ]
  },
  {
   "cell_type": "markdown",
   "metadata": {},
   "source": [
    "In the next notebook, we will explore the behavior of the permutative tests under similar condtions, to validate that these tests also work."
   ]
  }
 ],
 "metadata": {
  "kernelspec": {
   "display_name": "Python 3",
   "language": "python",
   "name": "python3"
  },
  "language_info": {
   "codemirror_mode": {
    "name": "ipython",
    "version": 3
   },
   "file_extension": ".py",
   "mimetype": "text/x-python",
   "name": "python",
   "nbconvert_exporter": "python",
   "pygments_lexer": "ipython3",
   "version": "3.5.1"
  }
 },
 "nbformat": 4,
 "nbformat_minor": 0
}
