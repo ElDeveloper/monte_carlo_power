{
 "cells": [
  {
   "cell_type": "markdown",
   "metadata": {},
   "source": [
    "# Build Simulations"
   ]
  },
  {
   "cell_type": "markdown",
   "metadata": {},
   "source": [
    "We're going to use this notebook to simulate data sets we'll use moving forward. We'll look at two main types of data: continous and categorical. "
   ]
  },
  {
   "cell_type": "code",
   "execution_count": null,
   "metadata": {
    "collapsed": true
   },
   "outputs": [],
   "source": [
    "import os\n",
    "import pickle\n",
    "import warnings\n",
    "\n",
    "import numpy as np\n",
    "import pandas as pd\n",
    "import scipy.stats\n",
    "import skbio\n",
    "import seaborn as sn\n",
    "import statsmodels.api as sm\n",
    "import matplotlib.pyplot as plt\n",
    "\n",
    "import emp_power.simulate as sim\n",
    "\n",
    "% matplotlib inline\n",
    "sn.set_style('ticks')"
   ]
  },
  {
   "cell_type": "markdown",
   "metadata": {},
   "source": [
    "Let's also set this up to ignore certain warnings that appear due to dependent packages."
   ]
  },
  {
   "cell_type": "code",
   "execution_count": null,
   "metadata": {
    "collapsed": false
   },
   "outputs": [],
   "source": [
    "warnings.filterwarnings('ignore')"
   ]
  },
  {
   "cell_type": "markdown",
   "metadata": {},
   "source": [
    "# Setting up the simulations"
   ]
  },
  {
   "cell_type": "markdown",
   "metadata": {},
   "source": [
    "We'll set a random seed so the simulation results are consistent."
   ]
  },
  {
   "cell_type": "code",
   "execution_count": null,
   "metadata": {
    "collapsed": true
   },
   "outputs": [],
   "source": [
    "np.random.seed(25) "
   ]
  },
  {
   "cell_type": "markdown",
   "metadata": {},
   "source": [
    "The simulations will be saved in a directory under the current on called simulations. You can change this directory, but if you choose to do so, you'll need to update the directory in subsequent notebooks."
   ]
  },
  {
   "cell_type": "code",
   "execution_count": null,
   "metadata": {
    "collapsed": true
   },
   "outputs": [],
   "source": [
    "sim_location = './simulations/data/'\n",
    "if not os.path.exists(sim_location):\n",
    "    os.makedirs(sim_location)"
   ]
  },
  {
   "cell_type": "markdown",
   "metadata": {},
   "source": [
    "We'll perform 100 simulations, and we'll track the information about the simulation in a dictonary called distribution."
   ]
  },
  {
   "cell_type": "code",
   "execution_count": null,
   "metadata": {
    "collapsed": true
   },
   "outputs": [],
   "source": [
    "num_rounds = 100\n",
    "distributions = {}"
   ]
  },
  {
   "cell_type": "markdown",
   "metadata": {},
   "source": [
    "## Helper Functions"
   ]
  },
  {
   "cell_type": "markdown",
   "metadata": {},
   "source": [
    "We'll define a helper function which will allow us to easily retrieve functions associated with the simulation."
   ]
  },
  {
   "cell_type": "code",
   "execution_count": null,
   "metadata": {
    "collapsed": true
   },
   "outputs": [],
   "source": [
    "def retrieve_test(simulation_type):\n",
    "    \"\"\"The simulation function, test, and simulation parameters\"\"\"\n",
    "    simulation = distributions[simulation_type]['function']\n",
    "    test = distributions[simulation_type]['test']\n",
    "    kwargs = distributions[simulation_type]['kwargs']\n",
    "    \n",
    "    return simulation, test, kwargs"
   ]
  },
  {
   "cell_type": "markdown",
   "metadata": {},
   "source": [
    "We'll also define a function which will produce a pretty plot associated with the distribution."
   ]
  },
  {
   "cell_type": "code",
   "execution_count": null,
   "metadata": {
    "collapsed": true
   },
   "outputs": [],
   "source": [
    "def clean_up_axis(ax):\n",
    "    \"\"\"Formats the axis\"\"\"\n",
    "    ax.set_yticks([])\n",
    "    ax.set_yticklabels('')\n",
    "    ax.set_xticklabels('')\n",
    "    \n",
    "    sn.despine(left=True, right=True, top=True, offset=10)"
   ]
  },
  {
   "cell_type": "markdown",
   "metadata": {},
   "source": [
    "# Categorical Tests"
   ]
  },
  {
   "cell_type": "markdown",
   "metadata": {},
   "source": [
    "## One Sample T test"
   ]
  },
  {
   "cell_type": "markdown",
   "metadata": {},
   "source": [
    "We'll start by simulating data for a one sample t test. This test checks an observation is drawn from a sample. We are testing the alternatively hypotheses,\n",
    "\n",
    "$\\begin{matrix}\n",
    "\\textbf{H}_{0} & x = \\bar{x} \\\\\n",
    "\\textbf{H}_{1} & x \\neq \\bar{x}\\\\\n",
    "\\end{matrix} \\tag{2.1}$\n",
    "\n",
    "It is assumed the sample is aspmotically normal."
   ]
  },
  {
   "cell_type": "code",
   "execution_count": null,
   "metadata": {
    "collapsed": false
   },
   "outputs": [],
   "source": [
    "data = sim.simulate_ttest_1(mu_lim=[5, 6], sigma_lim=[4, 6], count_lim=[100, 101])\n",
    "ax = plt.subplot(3, 1, 1)\n",
    "sn.distplot(data[1], ax=ax, color='k', hist_kws={'alpha': 0.2})\n",
    "ylim = ax.get_ylim()\n",
    "ax.plot([0, 0], [0, 0.125], 'k-')\n",
    "ax.set_ylim(ylim)\n",
    "clean_up_axis(ax)"
   ]
  },
  {
   "cell_type": "markdown",
   "metadata": {},
   "source": [
    "We'll simulate the data using a random normal distribution. The means for the distribution will be between 5 and 10, the standard deviations between 5 and 8, and the sample size between 60 and 100 observations."
   ]
  },
  {
   "cell_type": "code",
   "execution_count": null,
   "metadata": {
    "collapsed": false
   },
   "outputs": [],
   "source": [
    "distributions['ttest_1'] = {'function': sim.simulate_ttest_1,\n",
    "                            'test': lambda x: scipy.stats.ttest_1samp(*x, 0),\n",
    "                            'kwargs': {'mu_lim': [5, 10],\n",
    "                                       'sigma_lim': [5, 8],\n",
    "                                       'count_lim': [60, 100]}\n",
    "                            }"
   ]
  },
  {
   "cell_type": "markdown",
   "metadata": {},
   "source": [
    "## Two Sample Independent T test"
   ]
  },
  {
   "cell_type": "markdown",
   "metadata": {},
   "source": [
    "We'll also simulate data for a two sample T test.\n",
    "\n",
    "The case II t test is a test for two independent samples, to determine if the samples are drawn from different distributions.\n",
    "\n",
    "$\\begin{matrix}\n",
    "\\textbf{H}_{0} & \\bar{x}_{1} = \\bar{x}_{2} \\\\\n",
    "\\textbf{H}_{1} & \\bar{x}_{1} \\neq \\bar{x}_{2}\\\\\n",
    "\\end{matrix} \\tag{3.1}$"
   ]
  },
  {
   "cell_type": "code",
   "execution_count": null,
   "metadata": {
    "collapsed": false
   },
   "outputs": [],
   "source": [
    "data = sim.simulate_ttest_ind(mu_lim=[0, 6], sigma_lim=[4, 6], count_lim=[100, 101])\n",
    "\n",
    "ax1 = plt.subplot(3, 1, 1)\n",
    "ax2 = plt.subplot(3, 1, 2, sharey=ax1, sharex=ax1)\n",
    "sn.distplot(data[1][0], ax=ax1, color='k', hist_kws={'alpha': 0.2})\n",
    "sn.distplot(data[1][1], ax=ax2, color='k', hist_kws={'alpha': 0.2})\n",
    "\n",
    "ax1.set_ylim([0, 0.125])\n",
    "ax2.set_ylim([0, 0.125])\n",
    "\n",
    "clean_up_axis(ax1)\n",
    "clean_up_axis(ax2)"
   ]
  },
  {
   "cell_type": "markdown",
   "metadata": {},
   "source": [
    "We'll set up simulations with means between 0 and 10, with standard deviations between 5 and 15, and sample sizes between 60 and 100. The simulated distributions will have the same number of observations per sample, although this will vary between simulations."
   ]
  },
  {
   "cell_type": "code",
   "execution_count": null,
   "metadata": {
    "collapsed": false
   },
   "outputs": [],
   "source": [
    "distributions['ttest_ind'] = {'function': sim.simulate_ttest_ind,\n",
    "                              'test': lambda x: scipy.stats.ttest_ind(*samples),\n",
    "                              'kwargs': {'mu_lim': [0, 10],\n",
    "                                         'sigma_lim': [5, 15],\n",
    "                                         'count_lim': [60, 100]}\n",
    "                              }"
   ]
  },
  {
   "cell_type": "markdown",
   "metadata": {},
   "source": [
    "## One way ANOVA"
   ]
  },
  {
   "cell_type": "markdown",
   "metadata": {},
   "source": [
    "A one-way Analysis of Variance (ANOVA) is typically  used to compare a set of multiple distributions ($n \\geq 3$), to determine if one or more means are different. \n",
    "\n",
    "$\\begin{matrix}\n",
    "\\textbf{H}_{0} & \\bar{x}_{1} = \\bar{x}_{2} = ... \\bar{x}_{k} & \\\\\n",
    "\\textbf{H}_{1} & \\bar{x}_{i} \\neq \\bar{x}_{j} & \\exists i,j \\epsilon [1, k], i \\neq j\n",
    "\\end{matrix} \\tag{4.2}$\n",
    "\n",
    "We'll once again simulate normal distributions, to compare the data."
   ]
  },
  {
   "cell_type": "code",
   "execution_count": null,
   "metadata": {
    "collapsed": false
   },
   "outputs": [],
   "source": [
    "data = sim.simulate_anova(mu_lim=[0, 6], sigma_lim=[4, 6], count_lim=[100, 101], num_pops=3)\n",
    "\n",
    "ax1 = plt.subplot(3, 1, 1)\n",
    "ax2 = plt.subplot(3, 1, 2, sharey=ax1, sharex=ax1)\n",
    "ax3 = plt.subplot(3, 1, 3, sharex=ax1, sharey=ax1)\n",
    "sn.distplot(data[1][0], ax=ax1, color='k', hist_kws={'alpha': 0.2})\n",
    "sn.distplot(data[1][1], ax=ax2, color='k', hist_kws={'alpha': 0.2})\n",
    "sn.distplot(data[1][2], ax=ax3, color='k', hist_kws={'alpha': 0.2})\n",
    "\n",
    "clean_up_axis(ax1)\n",
    "clean_up_axis(ax2)\n",
    "clean_up_axis(ax3)"
   ]
  },
  {
   "cell_type": "markdown",
   "metadata": {},
   "source": [
    "We'll simulate two sets of distributions for ANOVA: a 3 sample and an 8 sample ANOVA. In both cases, we'll have means between 0 and 10, standard deviations between 5 and 15, and we'll once again have between 60 and 100 observations per sample, although the samples will be the same size."
   ]
  },
  {
   "cell_type": "code",
   "execution_count": null,
   "metadata": {
    "collapsed": true
   },
   "outputs": [],
   "source": [
    "distributions['anova_3'] = {'function': sim.simulate_anova,\n",
    "                            'test': lambda x: scipy.stats.f_oneway(*x),\n",
    "                            'kwargs': {'mu_lim': [0, 10],\n",
    "                                       'sigma_lim': [5, 15],\n",
    "                                       'count_lim': [60, 100],\n",
    "                                       'num_pops': 3}\n",
    "                            }\n",
    "distributions['anova_8'] = {'function': sim.simulate_anova,\n",
    "                            'test': lambda x: scipy.stats.f_oneway(*x),\n",
    "                            'kwargs': {'mu_lim': [0, 10],\n",
    "                                       'sigma_lim': [5, 15],\n",
    "                                       'count_lim': [60, 100],\n",
    "                                       'num_pops': 8}\n",
    "                            }"
   ]
  },
  {
   "cell_type": "markdown",
   "metadata": {},
   "source": [
    "## PERMANOVA on distance matrix"
   ]
  },
  {
   "cell_type": "markdown",
   "metadata": {},
   "source": []
  },
  {
   "cell_type": "code",
   "execution_count": null,
   "metadata": {
    "collapsed": false
   },
   "outputs": [],
   "source": [
    "dm = sim.simulate_permanova(num_samples=100, \n",
    "                            wdist=[0, 0.4], \n",
    "                            wspread=[0.1, 0.4],\n",
    "                            bdist=[0.25, 0.75],\n",
    "                            bspread=[0.1, 0.6],\n",
    "                           )[1][0]\n",
    "ax = plt.axes()\n",
    "sn.heatmap(dm.data, ax=ax)\n",
    "ax.set_yticks([])\n",
    "yt = ax.set_xticks([])"
   ]
  },
  {
   "cell_type": "markdown",
   "metadata": {},
   "source": []
  },
  {
   "cell_type": "code",
   "execution_count": null,
   "metadata": {
    "collapsed": true
   },
   "outputs": [],
   "source": [
    "def permanova_test(samples):\n",
    "    \"\"\"Wraps the scikit-bio permanova for convenience\"\"\"\n",
    "    [dm, groups] = samples\n",
    "    res = skbio.stats.distance.permanova(dm,\n",
    "                                         groups,\n",
    "                                         permutations=99)\n",
    "    return res['p-value']"
   ]
  },
  {
   "cell_type": "code",
   "execution_count": null,
   "metadata": {
    "collapsed": false
   },
   "outputs": [],
   "source": [
    "distributions['permanova'] = {'function': sim.simulate_permanova,\n",
    "                              'test': permanova_test,\n",
    "                              'kwargs': {'num_samples': np.random.randint(120, 200),\n",
    "                                         'num0': None,\n",
    "                                         'wdist': [0.4, 0.6],\n",
    "                                         'wspread': [0.3, 0.5], \n",
    "                                         'bdist': [0.45, 0.7],\n",
    "                                         'bspread': [0.3, 0.6],\n",
    "                                         }\n",
    "                              }"
   ]
  },
  {
   "cell_type": "markdown",
   "metadata": {},
   "source": [
    "# Continous Distributions"
   ]
  },
  {
   "cell_type": "markdown",
   "metadata": {},
   "source": [
    "## Univariate Correlation"
   ]
  },
  {
   "cell_type": "code",
   "execution_count": null,
   "metadata": {
    "collapsed": false
   },
   "outputs": [],
   "source": [
    "[s, n, m, b], [x, y] = sim.simulate_correlation([1, 5], [-2, 2], [25, 50], [100, 101], [-20, 20])"
   ]
  },
  {
   "cell_type": "code",
   "execution_count": null,
   "metadata": {
    "collapsed": false
   },
   "outputs": [],
   "source": [
    "ax = plt.axes()\n",
    "ax.plot(x, y, 'ko', alpha=0.5)\n",
    "ax.plot(np.arange(-20, 21, 1), m * np.arange(-20, 21,) + b, 'r-')\n",
    "ax.set_xlim\n",
    "sn.despine(offset=10)"
   ]
  },
  {
   "cell_type": "code",
   "execution_count": null,
   "metadata": {
    "collapsed": true
   },
   "outputs": [],
   "source": [
    "distributions['correlation'] = {'function': sim.simulate_correlation,\n",
    "                                'test': lambda x: scipy.stats.pearsonr(*x),\n",
    "                                'kwargs': {'slope_lim': [1, 5],\n",
    "                                           'intercept_lim': [-2, 2],\n",
    "                                           'sigma_lim': [25, 50],\n",
    "                                           'count_lim': [60, 100],\n",
    "                                           'x_lim': [-20, 20]}\n",
    "                                 }"
   ]
  },
  {
   "cell_type": "markdown",
   "metadata": {},
   "source": [
    "## Multivariate Correlation"
   ]
  },
  {
   "cell_type": "markdown",
   "metadata": {},
   "source": []
  },
  {
   "cell_type": "code",
   "execution_count": null,
   "metadata": {
    "collapsed": true
   },
   "outputs": [],
   "source": [
    "[ms, b, s, n], [x, y] = sim.simulate_multivariate([-5, 5], [-3, 3], [3, 8], [100, 101], [-10, 10], 3)"
   ]
  },
  {
   "cell_type": "code",
   "execution_count": null,
   "metadata": {
    "collapsed": false
   },
   "outputs": [],
   "source": [
    "x1 = np.arange(np.floor(x[:, 0].min()), np.ceil(x[:, 0].max()), 1)\n",
    "x2 = np.arange(np.floor(x[:, 1].min()), np.ceil(x[:, 1].max()), 1)\n",
    "x3 = np.arange(np.floor(x[:, 2].min()), np.ceil(x[:, 2].max()), 1)\n",
    "\n",
    "fig, axes = plt.subplots(1, 3)\n",
    "axes[0].plot(x[:, 0], y, 'ko', alpha=0.5)\n",
    "axes[0].plot(x[:, 0], ms[0] * x[:, 0] + y.mean(), 'r-')\n",
    "axes[1].plot(x[:, 1], y, 'ko', alpha=0.5)\n",
    "axes[1].plot(x[:, 1], ms[1] * x[:, 1] + y.mean(), 'r-')\n",
    "axes[2].plot(x[:, 2], y, 'ko', alpha=0.5)\n",
    "axes[2].plot(x[:, 2], ms[2] * x[:, 2] + y.mean(), 'r-')"
   ]
  },
  {
   "cell_type": "code",
   "execution_count": null,
   "metadata": {
    "collapsed": true
   },
   "outputs": [],
   "source": [
    "def multivariate_test(samples):\n",
    "    \"\"\"Wraps the statsmodels Ordinary Least Squares model\"\"\"\n",
    "    [xs, y] = samples\n",
    "    r = sm.OLS(y, sm.add_constant(xs)).fit()\n",
    "    return r.pvalues"
   ]
  },
  {
   "cell_type": "code",
   "execution_count": null,
   "metadata": {
    "collapsed": false
   },
   "outputs": [],
   "source": [
    "distributions['multivariate'] = {'function': sim.simulate_multivariate,\n",
    "                                'test': multivariate_test,\n",
    "                                'kwargs': {'slope_lim': [-5, 5],\n",
    "                                           'intercept_lim': [-3, 3],\n",
    "                                           'sigma_lim': [3, 8],\n",
    "                                           'count_lim': [60, 100],\n",
    "                                           'x_lim': [-10, 10],\n",
    "                                           'num_pops': 2,\n",
    "                                           }\n",
    "                                }"
   ]
  },
  {
   "cell_type": "markdown",
   "metadata": {},
   "source": [
    "## Distance Correlation"
   ]
  },
  {
   "cell_type": "markdown",
   "metadata": {},
   "source": []
  },
  {
   "cell_type": "code",
   "execution_count": null,
   "metadata": {
    "collapsed": false
   },
   "outputs": [],
   "source": [
    "p, [x, y] = sim.simulate_mantel([1, 5], [-2, 2], [2, 10], [100, 101], x_lim=[-10, 10])"
   ]
  },
  {
   "cell_type": "code",
   "execution_count": null,
   "metadata": {
    "collapsed": false
   },
   "outputs": [],
   "source": [
    "x_prime = pd.DataFrame(x.data, index=x.ids, columns=x.ids)\n",
    "x_order = x_prime.sort_values('s.1').index"
   ]
  },
  {
   "cell_type": "code",
   "execution_count": null,
   "metadata": {
    "collapsed": false
   },
   "outputs": [],
   "source": [
    "fig, [ax1, ax2, ax3] = plt.subplots(1, 3)\n",
    "fig.set_size_inches(9, 3)\n",
    "sn.heatmap(x.filter(x_order).data, ax=ax1)\n",
    "sn.heatmap(y.filter(x_order).data, ax=ax2)\n",
    "ax1.axis('equal')\n",
    "ax1.set_xticks([])\n",
    "ax1.set_yticks([])\n",
    "ax2.axis('equal')\n",
    "ax2.set_xticks([])\n",
    "ax2.set_yticks([])\n",
    "ax3.plot(x.condensed_form(), y.condensed_form(), 'ko', alpha=0.05)"
   ]
  },
  {
   "cell_type": "markdown",
   "metadata": {},
   "source": []
  },
  {
   "cell_type": "code",
   "execution_count": null,
   "metadata": {
    "collapsed": true
   },
   "outputs": [],
   "source": [
    "def mantel_test(samples):\n",
    "    \"\"\"Wraps the scikit-bio mantel test\"\"\"\n",
    "    [x, y] = samples\n",
    "    return skbio.stats.distance.mantel(x, y, \n",
    "                                       method='spearman', \n",
    "                                       permutations=99)[1]"
   ]
  },
  {
   "cell_type": "code",
   "execution_count": null,
   "metadata": {
    "collapsed": false
   },
   "outputs": [],
   "source": [
    "distributions['mantel'] = {'function': sim.simulate_mantel,\n",
    "                           'test': mantel_test,\n",
    "                           'kwargs': {'slope_lim': [1, 5],\n",
    "                                      'intercept_lim': [-2, 2],\n",
    "                                      'sigma_lim': [2, 10],\n",
    "                                      'count_lim': [60, 100],\n",
    "                                      'x_lim': [-10, 10],\n",
    "                                      }\n",
    "                           }"
   ]
  },
  {
   "cell_type": "markdown",
   "metadata": {},
   "source": [
    "# Simulates the data"
   ]
  },
  {
   "cell_type": "code",
   "execution_count": null,
   "metadata": {
    "collapsed": false
   },
   "outputs": [],
   "source": [
    "for test_name in distributions.keys():\n",
    "    # Gets the simulation function, test, and arguments\n",
    "    simulation, test, kwargs = retrieve_test(test_name)\n",
    "    if not os.path.exists(os.path.join(sim_location, test_name)):\n",
    "        os.makedirs(os.path.join(sim_location, test_name))\n",
    "    # Permforms the simulations\n",
    "    for i in range(num_rounds):\n",
    "        file = os.path.join(sim_location, '%s/simulation_%i.p' % (test_name, i))\n",
    "        params, samples = simulation(**kwargs)\n",
    "        p = test(samples)\n",
    "        with open(file, 'wb') as f_:\n",
    "            pickle.dump({'samples': samples, 'params': params, 'p_value': p}, f_)"
   ]
  },
  {
   "cell_type": "markdown",
   "metadata": {},
   "source": [
    "We can now use the simulated data to explore power benchmarking."
   ]
  }
 ],
 "metadata": {
  "kernelspec": {
   "display_name": "Python 3",
   "language": "python",
   "name": "python3"
  },
  "language_info": {
   "codemirror_mode": {
    "name": "ipython",
    "version": 3
   },
   "file_extension": ".py",
   "mimetype": "text/x-python",
   "name": "python",
   "nbconvert_exporter": "python",
   "pygments_lexer": "ipython3",
   "version": "3.5.1"
  }
 },
 "nbformat": 4,
 "nbformat_minor": 0
}
