{
 "cells": [
  {
   "cell_type": "markdown",
   "metadata": {},
   "source": [
    "# Effect Size Comparison\n",
    "This notebook will examine how well fit effect sizes compare to the test-based effect sizes for parametric data."
   ]
  },
  {
   "cell_type": "code",
   "execution_count": 1,
   "metadata": {
    "collapsed": false,
    "scrolled": true
   },
   "outputs": [],
   "source": [
    "import os\n",
    "import pickle\n",
    "\n",
    "import matplotlib.pyplot as plt\n",
    "import numpy as np\n",
    "import pandas as pd\n",
    "import seaborn as sn\n",
    "import statsmodels.api as sms\n",
    "import statsmodels.formula.api as smf\n",
    "\n",
    "import emp_power.traditional as trad\n",
    "import emp_power.effects as eff\n",
    "\n",
    "% matplotlib inline\n",
    "sn.set_style('ticks')"
   ]
  },
  {
   "cell_type": "markdown",
   "metadata": {},
   "source": []
  },
  {
   "cell_type": "code",
   "execution_count": 2,
   "metadata": {
    "collapsed": false
   },
   "outputs": [],
   "source": [
    "num_rounds = 100\n",
    "alpha = 0.05\n",
    "tests = ['ttest_ind']\n",
    "counts = np.arange(5, 100, 10)\n",
    "overwrite = True"
   ]
  },
  {
   "cell_type": "code",
   "execution_count": 3,
   "metadata": {
    "collapsed": true
   },
   "outputs": [],
   "source": [
    "sim_location = './simulations/'\n",
    "if not os.path.exists(sim_location):\n",
    "    raise ValueError('The simulations do not exist. Go back and simulate some data!')"
   ]
  },
  {
   "cell_type": "code",
   "execution_count": 4,
   "metadata": {
    "collapsed": true
   },
   "outputs": [],
   "source": [
    "tests = ['ttest_ind', 'ttest_1', 'anova_3', 'anova_8', 'correlation']"
   ]
  },
  {
   "cell_type": "code",
   "execution_count": 5,
   "metadata": {
    "collapsed": true
   },
   "outputs": [],
   "source": [
    "def calc_power_summary(counts, power, alpha=0.05):\n",
    "    \"\"\"Calculates\"\"\"\n",
    "    # Calculates the effect size vectors\n",
    "    eff_z = eff.z_effect(counts, trad_power, alpha=alpha)\n",
    "    eff_t = eff.t_effect(counts, trad_power, alpha=alpha)\n",
    "    eff_f = eff.f_effect(counts, trad_power, alpha=alpha)\n",
    "    \n",
    "    return (eff_z, eff_t, eff_f)"
   ]
  },
  {
   "cell_type": "code",
   "execution_count": 24,
   "metadata": {
    "collapsed": false
   },
   "outputs": [],
   "source": [
    "summary = {}\n",
    "for test_name in tests:\n",
    "    summary[test_name] = {}\n",
    "    \n",
    "    # Checks the directory location\n",
    "    power_dir = os.path.join(sim_location, 'emperical_power/%s' % test_name)\n",
    "    save_dir = os.path.join(sim_location, 'extrapolated_effect/%s' % test_name)\n",
    "    \n",
    "    # Creates the save directory\n",
    "    if not os.path.exists(save_dir):\n",
    "        os.makedirs(save_dir)\n",
    "    \n",
    "    # Looks at the simulations\n",
    "    for i in range(num_rounds):\n",
    "        power_fp = os.path.join(power_dir, 'simulation_%i.p' % i)\n",
    "        save_fp = os.path.join(save_dir, 'simulation_%i.p' % i)\n",
    "        \n",
    "        if os.path.exists(save_fp) and not overwrite:\n",
    "            with open(save_fp, 'rb') as f_:\n",
    "                summary[test_name][i] = pickle.load(f_)\n",
    "            continue\n",
    "        \n",
    "        with open(power_fp, 'rb') as f_:\n",
    "            power_sim = pickle.load(f_)\n",
    "        trad_power = power_sim['traditional_power']\n",
    "        emp_power = power_sim['emperical_power']\n",
    "        try:\n",
    "            counts = data['counts']\n",
    "        except:\n",
    "            counts = np.arange(5, 100, 10)\n",
    "        \n",
    "        (teff_z, teff_t, teff_f) = calc_power_summary(counts, trad_power)\n",
    "        (eeff_z, eeff_t, eeff_f) = calc_power_summary(counts, emp_power)\n",
    "        \n",
    "        trad_summary = {'counts': counts,\n",
    "                        'index': np.arange(len(counts)),\n",
    "                        'trad_power': trad_power,\n",
    "                        'empr_power': emp_power,\n",
    "                        'dummy': i * np.ones(len(counts)).astype(int),\n",
    "                        'trad_f_effect': teff_f[0],\n",
    "                        'trad_t_effect': teff_t[0],\n",
    "                        'trad_z_effect': teff_z[0],\n",
    "                        'empr_f_effect': eeff_f[0],\n",
    "                        'empr_t_effect': eeff_t[0],\n",
    "                        'empr_z_effect': eeff_z[0],\n",
    "                        }\n",
    "        summary[test_name][i] = trad_summary\n",
    "        \n",
    "        with open(save_fp, 'wb') as f_:\n",
    "            pickle.dump(trad_summary, f_)"
   ]
  },
  {
   "cell_type": "markdown",
   "metadata": {},
   "source": [
    "Let's start by looking at the effect sizes calculated from the traditionally calculated power."
   ]
  },
  {
   "cell_type": "code",
   "execution_count": 43,
   "metadata": {
    "collapsed": false
   },
   "outputs": [],
   "source": [
    "def plot_test_features(test_name, ax_r):\n",
    "    \"\"\"Creates a helper function to make plotting prettier\"\"\"\n",
    "    [ax1, ax2, ax3] = ax_r\n",
    "    test_data = pd.DataFrame(summary[test_name]).transpose()\n",
    "    test_sum = pd.DataFrame(\n",
    "        data=[np.hstack(test_data['trad_f_effect']),\n",
    "              np.hstack(test_data['trad_t_effect']),\n",
    "              np.hstack(test_data['trad_z_effect']),\n",
    "              np.hstack(test_data['trad_power']),],\n",
    "        columns=[(a, b) for a, b in \n",
    "                 zip(*[np.hstack(test_data['dummy']), np.hstack(test_data['index'])])],\n",
    "        index=['f_effect', 't_effect', 'z_effect', 'power']\n",
    "        ).transpose()\n",
    "    test_sum.dropna(inplace=True)\n",
    "    ax_r = axes[0]\n",
    "    [ax1, ax2, ax3] = ax_r\n",
    "    ax1.plot(test_sum['f_effect'], test_sum['t_effect'], 'k.', alpha=0.1)\n",
    "    ax2.plot(test_sum['f_effect'], test_sum['z_effect'], 'k.', alpha=0.1)\n",
    "    ax3.plot(test_sum['t_effect'], test_sum['z_effect'], 'k.', alpha=0.1)\n",
    "\n",
    "    def clean_up_ax(ax):\n",
    "        ax.plot([0, 1.5], [0, 1.5], 'r-')\n",
    "        ax.set_xticks(np.arange(0, 1.51, 0.25))\n",
    "        ax.set_yticks(np.arange(0, 1.51, 0.25))\n",
    "        ax.set_xticklabels('')\n",
    "        ax.set_yticklabels('')\n",
    "        ax.set_xlim([0, 1.5])\n",
    "        ax.set_ylim([0, 1.5])\n",
    "    clean_up_ax(ax1)\n",
    "    clean_up_ax(ax2)\n",
    "    clean_up_ax(ax3)"
   ]
  },
  {
   "cell_type": "code",
   "execution_count": 45,
   "metadata": {
    "collapsed": false
   },
   "outputs": [
    {
     "data": {
      "text/plain": [
       "['ttest_ind', 'ttest_1', 'anova_3', 'anova_8', 'correlation']"
      ]
     },
     "execution_count": 45,
     "metadata": {},
     "output_type": "execute_result"
    }
   ],
   "source": [
    "tests"
   ]
  },
  {
   "cell_type": "code",
   "execution_count": 47,
   "metadata": {
    "collapsed": false
   },
   "outputs": [
    {
     "data": {
      "image/png": "[encoded data removed]",
      "text/plain": [
       "<matplotlib.figure.Figure at 0x11a3775c0>"
      ]
     },
     "metadata": {},
     "output_type": "display_data"
    }
   ],
   "source": [
    "fig, axes = plt.subplots(5, 3)\n",
    "# fig.set_size_inches(4.5, 7.5)\n",
    "# sn.despine()\n",
    "\n",
    "for test_name, ax_r in zip(*(tests, axes)):\n",
    "    [ax1, ax2, ax3] = ax_r\n",
    "    ax1.text(0.5, 0.5, test_name, ha='center')\n",
    "    plot_test_features(test_name, ax_r)\n",
    "    "
   ]
  },
  {
   "cell_type": "code",
   "execution_count": 42,
   "metadata": {
    "collapsed": false,
    "scrolled": false
   },
   "outputs": [
    {
     "data": {
      "image/png": "[encoded data removed]",
      "text/plain": [
       "<matplotlib.figure.Figure at 0x1175d4898>"
      ]
     },
     "execution_count": 42,
     "metadata": {},
     "output_type": "execute_result"
    }
   ],
   "source": [
    "test_name = 'ttest_ind'\n",
    "test_data = pd.DataFrame(summary[test_name]).transpose()\n",
    "test_sum = pd.DataFrame(\n",
    "    data=[np.hstack(test_data['trad_f_effect']),\n",
    "          np.hstack(test_data['trad_t_effect']),\n",
    "          np.hstack(test_data['trad_z_effect']),\n",
    "          np.hstack(test_data['trad_power']),],\n",
    "    columns=[(a, b) for a, b in \n",
    "             zip(*[np.hstack(test_data['dummy']), np.hstack(test_data['index'])])],\n",
    "    index=['f_effect', 't_effect', 'z_effect', 'power']\n",
    "    ).transpose()\n",
    "test_sum.dropna(inplace=True)\n",
    "ax_r = axes[0]\n",
    "[ax1, ax2, ax3] = ax_r\n",
    "ax1.plot(test_sum['f_effect'], test_sum['t_effect'], 'k.', alpha=0.1)\n",
    "ax2.plot(test_sum['f_effect'], test_sum['z_effect'], 'k.', alpha=0.1)\n",
    "ax3.plot(test_sum['t_effect'], test_sum['z_effect'], 'k.', alpha=0.1)\n",
    "\n",
    "def clean_up_ax(ax):\n",
    "    ax.plot([0, 1.5], [0, 1.5], 'r-')\n",
    "    ax.set_xticks(np.arange(0, 1.51, 0.25))\n",
    "    ax.set_yticks(np.arange(0, 1.51, 0.25))\n",
    "    ax.set_xticklabels('')\n",
    "    ax.set_yticklabels('')\n",
    "    ax.set_xlim([0, 1.5])\n",
    "    ax.set_ylim([0, 1.5])\n",
    "clean_up_ax(ax1)\n",
    "clean_up_ax(ax2)\n",
    "clean_up_ax(ax3)\n",
    "\n",
    "fig"
   ]
  },
  {
   "cell_type": "code",
   "execution_count": null,
   "metadata": {
    "collapsed": false
   },
   "outputs": [],
   "source": [
    "test = pd.DataFrame(data=[np.hstack(ttest['trad_f_effect']),\n",
    "                          np.hstack(ttest['trad_t_effect']),\n",
    "                          np.hstack(ttest['trad_z_effect']),\n",
    "                          np.hstack(ttest['trad_power']),\n",
    "                         ],\n",
    "                     columns=[(a, b) for a, b in \n",
    "                              zip(*[np.hstack(ttest['dummy']), \n",
    "                                    np.hstack(ttest['index'])])],\n",
    "                     index=['f_effect', 't_effect', 'z_effect', 'power']\n",
    "                    ).transpose()"
   ]
  },
  {
   "cell_type": "code",
   "execution_count": null,
   "metadata": {
    "collapsed": true
   },
   "outputs": [],
   "source": [
    "test.dropna(inplace=True)"
   ]
  },
  {
   "cell_type": "code",
   "execution_count": null,
   "metadata": {
    "collapsed": false,
    "scrolled": true
   },
   "outputs": [],
   "source": [
    "fig, [[ax1, ax2], [ax3, ax4]] = plt.subplots(2, 2)\n",
    "ax1.plot(test['f_effect'], test['t_effect'], 'ko', alpha=0.05)\n",
    "ax1.plot([0, 1.5], [0, 1.5], 'r-')\n",
    "ax2.plot(test['z_effect'], test['t_effect'], 'ko', alpha=0.05)\n",
    "ax2.plot([0, 1.5], [0, 1.5], 'r-')\n",
    "ax3.plot(test['f_effect'], test['z_effect'], 'ko', alpha=0.05)\n",
    "ax3.plot([0, 1.5], [0, 1.5], 'r-')\n",
    "\n",
    "\n",
    "ax1.set_xticks(np.arange(0, 1.51, 0.5))\n",
    "ax2.set_xticks(np.arange(0, 1.51, 0.5))\n",
    "ax3.set_xticks(np.arange(0, 1.51, 0.5))\n",
    "ax1.set_yticks(np.arange(0, 1.51, 0.5))\n",
    "ax2.set_yticks(np.arange(0, 1.51, 0.5))\n",
    "ax3.set_yticks(np.arange(0, 1.51, 0.5))\n",
    "ax1.set_xlim([0, 1.5])\n",
    "ax2.set_xlim([0, 1.5])\n",
    "ax3.set_xlim([0, 1.5])\n",
    "ax1.set_ylim([0, 1.5])\n",
    "ax2.set_ylim([0, 1.5])\n",
    "ax3.set_ylim([0, 1.5])\n",
    "ax4.set_visible(False)\n",
    "fig.set_size_inches((4, 4))"
   ]
  },
  {
   "cell_type": "code",
   "execution_count": null,
   "metadata": {
    "collapsed": true
   },
   "outputs": [],
   "source": []
  },
  {
   "cell_type": "code",
   "execution_count": null,
   "metadata": {
    "collapsed": false
   },
   "outputs": [],
   "source": [
    "fig, [[ax1, ax2], [ax3, ax4]] = plt.subplots(2, 2)\n",
    "f_t_reg = smf.ols(formula='f_effect ~ t_effect', data=test).fit()\n",
    "ax1.plot(test['f_effect'], np.absolute(f_t_reg.resid), 'ko', alpha=0.1)\n",
    "ax2.plot(np.log10(test['power']), np.absolute(f_t_reg.resid), 'ko', alpha=0.1)\n",
    "ax4.plot(np.log10(1-test['power']), np.absolute(f_t_reg.resid), 'ko', alpha=0.1)"
   ]
  },
  {
   "cell_type": "markdown",
   "metadata": {},
   "source": [
    "It looks like power values about about 0.999 don't behave well. So, we should exclude hose "
   ]
  },
  {
   "cell_type": "code",
   "execution_count": null,
   "metadata": {
    "collapsed": false
   },
   "outputs": [],
   "source": [
    "f_t_reg.resid"
   ]
  },
  {
   "cell_type": "code",
   "execution_count": null,
   "metadata": {
    "collapsed": false
   },
   "outputs": [],
   "source": [
    "f_t_reg.summary()"
   ]
  },
  {
   "cell_type": "code",
   "execution_count": null,
   "metadata": {
    "collapsed": true
   },
   "outputs": [],
   "source": []
  }
 ],
 "metadata": {
  "kernelspec": {
   "display_name": "Python 3",
   "language": "python",
   "name": "python3"
  },
  "language_info": {
   "codemirror_mode": {
    "name": "ipython",
    "version": 3
   },
   "file_extension": ".py",
   "mimetype": "text/x-python",
   "name": "python",
   "nbconvert_exporter": "python",
   "pygments_lexer": "ipython3",
   "version": "3.5.1"
  }
 },
 "nbformat": 4,
 "nbformat_minor": 0
}
