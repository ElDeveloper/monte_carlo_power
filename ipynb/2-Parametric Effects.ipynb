{
 "cells": [
  {
   "cell_type": "markdown",
   "metadata": {},
   "source": [
    "# 1. Introduction\n",
    "\n",
    "..."
   ]
  },
  {
   "cell_type": "code",
   "execution_count": 1,
   "metadata": {
    "collapsed": false
   },
   "outputs": [],
   "source": [
    "from functools import partial\n",
    "import os\n",
    "import pickle\n",
    "import warnings\n",
    "\n",
    "import matplotlib.pyplot as plt\n",
    "import numpy as np\n",
    "import pandas as pd\n",
    "import seaborn as sn\n",
    "import scipy.stats\n",
    "from scipy.stats import norm as z\n",
    "from skbio.stats.power import subsample_power, confidence_bound\n",
    "\n",
    "from emp_power.power import subsample_power\n",
    "import emp_power.traditional as trad\n",
    "import emp_power.plot as plot\n",
    "import emp_power.utils as ap\n",
    "\n",
    "% matplotlib inline\n",
    "sn.set_style('ticks')"
   ]
  },
  {
   "cell_type": "markdown",
   "metadata": {},
   "source": [
    "# 2. Parameters"
   ]
  },
  {
   "cell_type": "code",
   "execution_count": 2,
   "metadata": {
    "collapsed": false
   },
   "outputs": [],
   "source": [
    "num_rounds = 100\n",
    "sim_location = './simulations/'\n",
    "if not os.path.exists(sim_location):\n",
    "    raise ValueError('The simulations do not exist. Go back and simulate some data!')"
   ]
  },
  {
   "cell_type": "code",
   "execution_count": 3,
   "metadata": {
    "collapsed": true
   },
   "outputs": [],
   "source": [
    "overwrite = False"
   ]
  },
  {
   "cell_type": "code",
   "execution_count": 4,
   "metadata": {
    "collapsed": true
   },
   "outputs": [],
   "source": [
    "counts = np.arange(5, 100, 10)\n",
    "alpha = 0.05\n",
    "distributions = {}"
   ]
  },
  {
   "cell_type": "markdown",
   "metadata": {},
   "source": [
    "# 3. Parametric Distributions"
   ]
  },
  {
   "cell_type": "markdown",
   "metadata": {},
   "source": [
    "## 3.1 One Sample T test"
   ]
  },
  {
   "cell_type": "markdown",
   "metadata": {},
   "source": [
    "A case I t-test checks if an observation is drawn from a sample. We are testing the alternatively hypotheses,\n",
    "\n",
    "$\\begin{matrix}\n",
    "\\textbf{H}_{0} & x = \\bar{x} \\\\\n",
    "\\textbf{H}_{1} & x \\neq \\bar{x}\\\\\n",
    "\\end{matrix} \\tag{2.1}$\n",
    "\n",
    "where $\\bar{x}$ is the mean of the population, $x$ is the value being compared to the sample, $s$ is the standard devation of the sample, and there are $n$ observations in the sample."
   ]
  },
  {
   "cell_type": "markdown",
   "metadata": {},
   "source": [
    "### 3.1.1 Test Statistic"
   ]
  },
  {
   "cell_type": "markdown",
   "metadata": {},
   "source": [
    "The test statistic for the case I t test is given as\n",
    "$t = \\frac{(\\bar{x} - x)\\sqrt{n}}{s} \\tag{2.2}$\n",
    "The probability distribution follows a T distribution with $n-1$ degrees of freedom, where $n$ is the number of observations in the sample.\n",
    "\n",
    "\n",
    "For the emperical test, we will use the `scipy.stats.ttest_1samp` function, which returns a p value."
   ]
  },
  {
   "cell_type": "code",
   "execution_count": 5,
   "metadata": {
    "collapsed": true
   },
   "outputs": [],
   "source": [
    "def emp_ttest_1(sample, x0=0):\n",
    "    return scipy.stats.ttest_1samp(sample[0], x0)[1]"
   ]
  },
  {
   "cell_type": "markdown",
   "metadata": {},
   "source": [
    "### 3.1.2 Effect Size"
   ]
  },
  {
   "cell_type": "markdown",
   "metadata": {},
   "source": [
    "The non centrality paramter for the statistic, $\\lambda$ is given by\n",
    "$\\begin{align*}\n",
    "\\lambda &= \\frac{t}{\\sqrt{n}}\\\\\n",
    "&=\\frac{1}{\\sqrt{n}}\\left(\\frac{(\\bar{x} - x)\\sqrt{n}}{s}\\right )\\\\\n",
    "&=\\frac{(\\bar{x} - x)}{s}\n",
    "\\end{align*}\\tag{2.4}$\n",
    "\n",
    "We will encorperate this in the power calculation. To allow for testing, the power calculation has been moved into a library."
   ]
  },
  {
   "cell_type": "code",
   "execution_count": 6,
   "metadata": {
    "collapsed": false
   },
   "outputs": [],
   "source": [
    "distributions['ttest_1'] = {'test': emp_ttest_1,\n",
    "                            'trad_power': partial(trad.calc_ttest_1, \n",
    "                                                  x0=0, \n",
    "                                                  counts=counts),\n",
    "                            'empr_power': partial(subsample_power, \n",
    "                                                  counts=counts, \n",
    "                                                  num_iter=1000, \n",
    "                                                  num_runs=3,\n",
    "                                                  test=emp_ttest_1)\n",
    "                            }"
   ]
  },
  {
   "cell_type": "markdown",
   "metadata": {},
   "source": [
    "## 3.2 Independent T test"
   ]
  },
  {
   "cell_type": "markdown",
   "metadata": {},
   "source": [
    "The case II t test is a test for two independent samples, to determine if the samples are drawn from different distributions.\n",
    "\n",
    "$\\begin{matrix}\n",
    "\\textbf{H}_{0} & \\bar{x}_{1} = \\bar{x}_{2} \\\\\n",
    "\\textbf{H}_{1} & \\bar{x}_{1} \\neq \\bar{x}_{2}\\\\\n",
    "\\end{matrix} \\tag{3.1}$"
   ]
  },
  {
   "cell_type": "markdown",
   "metadata": {},
   "source": [
    "### 3.2.1 Test Statistic"
   ]
  },
  {
   "cell_type": "markdown",
   "metadata": {},
   "source": [
    "There are several ways to calculate this t statistic, but we will operate on the assumption that the two populations have different variances, giving the most extensibe calculation of the test statistic. So,\n",
    "\n",
    "$\\begin{align*}\n",
    "t &= \\frac{\\bar{x}_{1} - \\bar{x}_{2}}{\\sqrt{\\frac{s_{1}^{2}}{n_{1}} + \\frac{s_{2}^{2}}{n_{2}}}}\\\\\n",
    "&= \\frac{\\bar{x}_{1} - \\bar{x}_{2}}{\\sqrt{\\frac{n_{2}s_{1}^{2} + n_{1}s_{2}^{2}}{n_{1}n_{2}}}}\n",
    "\\end{align*}\\tag{3.2}$\n",
    "\n",
    "The t statistic follows a T distribution with $df$ degrees of freedom, where $df$ is given as\n",
    "$df = \\frac{(s_{1}^{2}/n_{1} + s_{2}^{2}/n_{2})^{2}}{(s_{1}^{2}/n_{1})^2/(n_{1}-1) + s_{2}^{2}/n_{2})^2/(n_{2}-1)} \\tag{3.3}$\n",
    "\n",
    "For the sake of simplicity, we'll assume that $n_{1} = n_{2}$, which allows us to redefine equation (2.1) as\n",
    "$\\begin{align*}\n",
    "t &= \\frac{(\\bar{x}_{1} - \\bar{x}_{2})}{\\sqrt{\\frac{s_{1}^{2}}{n} + \\frac{s_{2}^{2}}{n}}}\\\\\n",
    "&= \\frac{\\sqrt{n}(\\bar{x}_{1} - \\bar{x}_{2})}{\\sqrt{s_{1}^{2} + s_{2}^{2}}}\n",
    "\\end{align*}\\tag{3.4}$\n",
    "which means the test statitic is now drawn from a t distribution with df degrees of freedom, where\n",
    "df is defined as\n",
    "$\\begin{align*}\n",
    "df &= \\left (n-1 \\right ) \\left (\\frac{\\left (s_{1}^{2} + s_{2}^{2}  \\right )^{2}}{\\left (s_{1}^{2} \\right)^{2} + \\left (s_{2}^{2}  \\right )^{2}} \\right )\\\\\n",
    "\\end{align*}\\tag{3.5}$\n",
    "\n",
    "For the emperical test, we can use the `scipy.stats.ttest_ind` function, which will return a p value.\n",
    "\n",
    "For the sake of simplicity, we'll assume that $n_{1} = n_{2}$, which allows us to redefine equation (2.1) as\n",
    "$\\begin{align*}\n",
    "t &= \\frac{(\\bar{x}_{1} - \\bar{x}_{2})}{\\sqrt{\\frac{s_{1}^{2}}{n} + \\frac{s_{2}^{2}}{n}}}\\\\\n",
    "&= \\frac{\\sqrt{n}(\\bar{x}_{1} - \\bar{x}_{2})}{\\sqrt{s_{1}^{2} + s_{2}^{2}}}\n",
    "\\end{align*}\\tag{3.4}$\n",
    "which means the test statitic is now drawn from a t distribution with df degrees of freedom, where\n",
    "df is defined as\n",
    "$\\begin{align*}\n",
    "df &= \\left (n-1 \\right ) \\left (\\frac{\\left (s_{1}^{2} + s_{2}^{2}  \\right )^{2}}{\\left (s_{1}^{2} \\right)^{2} + \\left (s_{2}^{2}  \\right )^{2}} \\right )\\\\\n",
    "\\end{align*}\\tag{3.5}$\n",
    "\n",
    "For the emperical test, we can use the `scipy.stats.ttest_ind` function, which will return a p value."
   ]
  },
  {
   "cell_type": "code",
   "execution_count": 7,
   "metadata": {
    "collapsed": true
   },
   "outputs": [],
   "source": [
    "def emp_ttest_ind(samples):\n",
    "    sample1, sample2 = samples\n",
    "    return scipy.stats.ttest_ind(sample1, sample2)[1]"
   ]
  },
  {
   "cell_type": "markdown",
   "metadata": {},
   "source": [
    "### 3.2.2 Noncentrality Parameter"
   ]
  },
  {
   "cell_type": "markdown",
   "metadata": {},
   "source": [
    "The effect size, non-centrality parameter, for an independent sample t test where samples are the same size is once again related to the test statistic as\n",
    "$\\begin{align*}\n",
    "\\lambda &= \\frac{t}{\\sqrt{n}}\\\\\n",
    "&= \\left (\\frac{\\sqrt{n} \\left (\\bar{x}_{1} - \\bar{x}_{2} \\right )}{\\sqrt{s_{1}^{2} + s_{2}^{2}}} \\right ) \\left (\\frac{1}{\\sqrt{n}} \\right )\\\\\n",
    "&= \\left (\\frac{\\bar{x}_{1}^{2} - \\bar{x}_{2}^{2}}{\\sqrt{s_{1}^{2} + s_{2}^{2}}} \\right )\n",
    "\\end{align*}\\tag{3.8}$"
   ]
  },
  {
   "cell_type": "code",
   "execution_count": 8,
   "metadata": {
    "collapsed": true
   },
   "outputs": [],
   "source": [
    "distributions['ttest_ind'] = {'test': emp_ttest_ind,\n",
    "                              'trad_power': partial(trad.calc_ttest_ind, \n",
    "                                                    counts=counts),\n",
    "                              'empr_power': partial(subsample_power, \n",
    "                                                  counts=counts, \n",
    "                                                  num_iter=1000, \n",
    "                                                  num_runs=3,\n",
    "                                                  test=emp_ttest_ind)\n",
    "                              }"
   ]
  },
  {
   "cell_type": "markdown",
   "metadata": {},
   "source": [
    "## 3.3 One way Analysis of Variance"
   ]
  },
  {
   "cell_type": "markdown",
   "metadata": {},
   "source": [
    "Assume there exist a set of samples, $\\{S_{1}, S_{2}, ..., S_{k} \\}$ where there are a total of $N$ observations distributed over the $k$ groups. The $i$th sample, $S_{i}$ contains $n_{i}$ observations, and has a mean of $\\bar{x}_{.i}$ and a standard deviation, $s_{i}$ where\n",
    "\n",
    "$\\begin{align*}\n",
    "s_{i} = \\sqrt{\\frac{\\sum_{j=1}^{n}{\\left (x_{ij} - \\bar{x}_{.i} \\right)^{2}}}{n_{i}-1}}\n",
    "\\end{align*}\\tag{4.1}$\n",
    "\n",
    "A one-way Analysis of Variance (ANOVA) tests that at least one sample mean in a set of three or more are not equal. Assume that \n",
    "\n",
    "$\\begin{matrix}\n",
    "\\textbf{H}_{0} & \\bar{x}_{1} = \\bar{x}_{2} = ... \\bar{x}_{k} & \\\\\n",
    "\\textbf{H}_{1} & \\bar{x}_{i} \\neq \\bar{x}_{j} & \\exists i,j \\epsilon [1, k], i \\neq j\n",
    "\\end{matrix} \\tag{4.2}$"
   ]
  },
  {
   "cell_type": "markdown",
   "metadata": {},
   "source": [
    "### 3.3.1 Test Statistic"
   ]
  },
  {
   "cell_type": "markdown",
   "metadata": {},
   "source": [
    "Assume there exist a set of samples, $\\{S_{1}, S_{2}, ..., S_{k} \\}$ where there are a total of $N$ observations distributed over the $k$ groups. The $i$th sample, $S_{i}$ contains $n_{i}$ observations, and has a mean of $\\bar{x}_{.i}$ and a standard deviation, $s_{i}$ where\n",
    "\n",
    "$\\begin{align*}\n",
    "s_{i} = \\sqrt{\\frac{\\sum_{j=1}^{n}{\\left (x_{ij} - \\bar{x}_{.i} \\right)^{2}}}{n_{i}-1}}\n",
    "\\end{align*}\\tag{4.1}$\n",
    "\n",
    "A one-way Analysis of Variance (ANOVA) tests that at least one sample mean in a set of three or more are not equal. Assume that \n",
    "\n",
    "$\\begin{matrix}\n",
    "\\textbf{H}_{0} & \\bar{x}_{1} = \\bar{x}_{2} = ... \\bar{x}_{k} & \\\\\n",
    "\\textbf{H}_{1} & \\bar{x}_{i} \\neq \\bar{x}_{j} & \\exists i,j \\epsilon [1, k], i \\neq j\n",
    "\\end{matrix} \\tag{4.2}$\n",
    "\n",
    "The test statistic for ANOVA is given by\n",
    "$\\begin{align*}\n",
    "F &= \\frac{\\frac{\\textrm{SS}_{\\textrm{between}}}{\\textrm{DF}_{\\textrm{between}}}}{\\frac{\\textrm{SS}_{\\textrm{within}}}{\\textrm{DF}_{\\textrm{within}}}}\n",
    "\\end{align*}\\tag{4.3}$\n",
    "and test statistic is drawn from an $F$ distribution with $k - 1$ and $N - k$ degrees of freedom [[3](#Zar)].\n",
    "\n",
    "For the emperical test, we can use the `scipy.stats.f_oneway` function, which will return a p value."
   ]
  },
  {
   "cell_type": "code",
   "execution_count": 9,
   "metadata": {
    "collapsed": true
   },
   "outputs": [],
   "source": [
    "def emp_anova(samples):\n",
    "    return scipy.stats.f_oneway(*samples)[1]"
   ]
  },
  {
   "cell_type": "markdown",
   "metadata": {},
   "source": [
    "### 3.3.2 Noncentrality Parameter"
   ]
  },
  {
   "cell_type": "markdown",
   "metadata": {},
   "source": [
    "Under the alternatively hypothesis, the non-centrality $F'$ is given by\n",
    "\n",
    "$\\begin{align*}\n",
    "F' = \\left(\\frac{\\textrm{SS}_{\\textrm{between}}}{\\textrm{SS}_{\\textrm{within}}} \\right) \\left (\\frac{\\textrm{DF}_{\\textrm{within}}}{\\textrm{DF}_{\\textrm{between}}}{} \\right )\n",
    "\\end{align*}\\tag{4.9}$\n",
    "\n",
    "For a given pair of hypotheses, the noncentrality parameter is defined according to equation (2.4), where the grand mean can be substituted for the the test mean. The overall effect size is therefore given as\n",
    "$\\begin{align*}\n",
    "\\lambda &= \\sum_{i=1}^{k}{\\lambda_{i}^{2}}\\\\\n",
    "&= \\sum_{i=1}^{k}\\left (\\frac{\\bar{x}_{i} - \\bar{x}_{..}}{s_{i}} \\right )^{2} \n",
    "\\end{align*} \\tag{4.10}$"
   ]
  },
  {
   "cell_type": "markdown",
   "metadata": {},
   "source": [
    "Our simulations will focus on the 3 sample ANOVA we generated earlier."
   ]
  },
  {
   "cell_type": "code",
   "execution_count": 10,
   "metadata": {
    "collapsed": true
   },
   "outputs": [],
   "source": [
    "distributions['anova_3'] = {'test': emp_anova,\n",
    "                            'trad_power': partial(trad.calc_anova, \n",
    "                                                  counts=counts),\n",
    "                            'empr_power': partial(subsample_power, \n",
    "                                                  counts=counts, \n",
    "                                                  num_iter=1000, \n",
    "                                                  num_runs=3,\n",
    "                                                  test=emp_anova)\n",
    "                              }\n",
    "distributions['anova_8'] = {'test': emp_anova,\n",
    "                            'trad_power': partial(trad.calc_anova, \n",
    "                                                  counts=counts),\n",
    "                            'empr_power': partial(subsample_power, \n",
    "                                                  counts=counts, \n",
    "                                                  num_iter=1000, \n",
    "                                                  num_runs=3,\n",
    "                                                  test=emp_anova)\n",
    "                              }"
   ]
  },
  {
   "cell_type": "markdown",
   "metadata": {},
   "source": [
    "## 3.4 Pearson's R"
   ]
  },
  {
   "cell_type": "markdown",
   "metadata": {},
   "source": [
    "Pearson's correlation coeffecient looks for a linear one-to-one relationship between two vectors, $x$ and $y$, both of size $n$. Closely related vectors have a correlation coeffecient with an absloute value of 1, unrelated data have a correlation coeffecient of 0."
   ]
  },
  {
   "cell_type": "markdown",
   "metadata": {},
   "source": [
    "### 3.4.1 Test Statistic"
   ]
  },
  {
   "cell_type": "markdown",
   "metadata": {},
   "source": [
    "The correlation coeffecient between the two vectors is given by\n",
    "$\\begin{align*}\n",
    "r = \\frac{\\sum{xy}}{\\sqrt{\\sum{x^{2}}\\sum{y^{2}}}}\n",
    "\\end{align*}\\tag{5.1}$\n",
    "\n",
    "We can test the hypotheses,\n",
    "$\\begin{matrix}\n",
    "\\textbf{H}_{0} & r = 0 \\\\\n",
    "\\textbf{H}_{1} & x \\neq 0\\\\\n",
    "\\end{matrix} \\tag{5.2}$\n",
    "with a test statistic drawn from the $t$ distribution with $n - 2$ degrees of freedom. The statistic is calculated as\n",
    "$\\begin{align*}\n",
    "t = \\frac{r\\sqrt{n-2}}{\\sqrt{1 - r^{2}}}\n",
    "\\end{align*}\\tag{5.3}$\n",
    "\n",
    "Scipy's `scipy.stats.pearsonr` can calculate the correlation coeffecient *and* a p value for the coeffecient."
   ]
  },
  {
   "cell_type": "code",
   "execution_count": 11,
   "metadata": {
    "collapsed": true
   },
   "outputs": [],
   "source": [
    "def emp_pearson(samples):\n",
    "    return scipy.stats.pearsonr(*samples)[1]"
   ]
  },
  {
   "cell_type": "markdown",
   "metadata": {},
   "source": [
    "### 3.4.2 Noncentrality Parameter"
   ]
  },
  {
   "cell_type": "markdown",
   "metadata": {},
   "source": [
    "The noncentrality parameter for pearson's correlation coeffecient is given by\n",
    "$\\begin{align}\n",
    "\\lambda = \\frac{r}{\\sqrt{1 - r^{2}}}\n",
    "\\end{align}\\tag{5.4}$"
   ]
  },
  {
   "cell_type": "code",
   "execution_count": 12,
   "metadata": {
    "collapsed": false
   },
   "outputs": [],
   "source": [
    "distributions['correlation'] = {'test': emp_pearson,\n",
    "                                'trad_power': partial(trad.calc_pearson, \n",
    "                                                      counts=counts),\n",
    "                                'empr_power': partial(subsample_power, \n",
    "                                                      counts=counts, \n",
    "                                                      num_iter=1000, \n",
    "                                                      num_runs=3,\n",
    "                                                      draw_mode='matched',\n",
    "                                                      test=emp_pearson)\n",
    "                                }\n"
   ]
  },
  {
   "cell_type": "markdown",
   "metadata": {},
   "source": [
    "# Power Calculations\n",
    "\n",
    "We'll calculate "
   ]
  },
  {
   "cell_type": "code",
   "execution_count": 13,
   "metadata": {
    "collapsed": false
   },
   "outputs": [
    {
     "name": "stdout",
     "output_type": "stream",
     "text": [
      "CPU times: user 14.7 ms, sys: 5.16 ms, total: 19.9 ms\n",
      "Wall time: 19.3 ms\n"
     ]
    }
   ],
   "source": [
    "%%time\n",
    "summary = {}\n",
    "for test_name in distributions.keys():\n",
    "    # \n",
    "    summary[test_name] = {}\n",
    "    # Checks the directory location\n",
    "    sim_dir = os.path.join(sim_location, '%s/data/' % test_name)\n",
    "    power_dir = os.path.join(sim_location, '%s/power/' % test_name)\n",
    "\n",
    "    if os.path.exists(power_dir) and not overwrite:\n",
    "        # Loads the power\n",
    "        for i in range(num_rounds):\n",
    "            with open(os.path.join(power_dir, 'simulation_%i.p' % i), 'rb') as f_:\n",
    "                summary[test_name][i] = pickle.load(f_)\n",
    "    else:\n",
    "        # Creates the new directory\n",
    "        if not os.path.exists(power_dir):\n",
    "            os.makedirs(power_dir)\n",
    "        \n",
    "        # Generates the new power simulations\n",
    "        trad_calc = distributions[test_name]['trad_power']\n",
    "        emp_calc = distributions[test_name]['empr_power']\n",
    "        test = distributions[test_name]['test']\n",
    "        \n",
    "        for i in range(num_rounds):\n",
    "            # Loads the simulated data\n",
    "            with open(os.path.join(sim_dir, 'simulation_%i.p' % i), 'rb') as f_:\n",
    "                simulation = pickle.load(f_)\n",
    "            samples = simulation['samples']\n",
    "            traditional = trad_calc(*samples)\n",
    "            emperical = emp_calc(samples=samples)\n",
    "            round_summary = {'emperical_power': emperical,\n",
    "                             'traditional': traditional,\n",
    "                             'num_obs': len(samples[0]),\n",
    "                             'original_p': test(samples)\n",
    "                             }\n",
    "            summary[test_name][i] = round_summary\n",
    "            with open(os.path.join(power_dir, 'simulation_%i.p' % i), 'wb') as f_:\n",
    "                pickle.dump(round_summary, f_)"
   ]
  },
  {
   "cell_type": "markdown",
   "metadata": {},
   "source": [
    "Let's compare the simulated power with the traditionally defined power."
   ]
  },
  {
   "cell_type": "code",
   "execution_count": 22,
   "metadata": {
    "collapsed": false
   },
   "outputs": [
    {
     "data": {
      "image/png": "[encoded data removed]",
      "text/plain": [
       "<matplotlib.figure.Figure at 0x11648d748>"
      ]
     },
     "metadata": {},
     "output_type": "display_data"
    }
   ],
   "source": [
    "fig, axes = plt.subplots(1, 5)\n",
    "fig.set_size_inches((8, 2))\n",
    "correlations = {}\n",
    "for idx, (test_name, ax) in enumerate(zip(*(distributions.keys(), axes))):\n",
    "    test_data = pd.DataFrame.from_dict(summary[test_name], orient='index')\n",
    "    \n",
    "    emperical = np.hstack(test_data['emperical_power'].apply(lambda x: x.mean(0)))\n",
    "    traditional = np.hstack(test_data['traditional'])\n",
    "    \n",
    "    ax.plot(traditional, emperical, 'k.', alpha=0.25)\n",
    "    ax.plot([0, 1], [0, 1], 'r-')\n",
    "    ax.set_xlim([0, 1])\n",
    "    ax.set_ylim([0, 1])\n",
    "    ax.set_title(test_name.replace('_', ' '))\n",
    "    \n",
    "    sn.despine()\n",
    "    \n",
    "    ax.set_xticks(np.arange(0, 1.1, 0.25))\n",
    "    ax.set_yticks(np.arange(0, 1.1, 0.25))\n",
    "    ax.set_xticklabels(ax.get_xticks())\n",
    "    ax.set_yticklabels('')\n",
    "    ax.set_xlim([0, 1])\n",
    "    ax.set_ylim([0, 1])\n",
    "    \n",
    "    m, b, r, p, s = scipy.stats.linregress(traditional, emperical)\n",
    "    correlations[test_name] = {'slope': m,\n",
    "                               'intercept': b,\n",
    "                               'pearson': np.square(r),\n",
    "                               's_error': s,\n",
    "                               }\n",
    "\n",
    "\n",
    "axes[0].set_yticklabels(axes[0].get_yticks())\n",
    "axes[0].set_ylabel('Emperical Power')\n",
    "xl = axes[1].set_xlabel('Traditional Power')\n",
    "xl.set_position((1.1, 0.5))\n",
    "\n",
    "fig.set_size_inches((7.5, 1.5))"
   ]
  },
  {
   "cell_type": "code",
   "execution_count": 20,
   "metadata": {
    "collapsed": false,
    "scrolled": true
   },
   "outputs": [
    {
     "data": {
      "text/html": [
       "<div>\n",
       "<table border=\"1\" class=\"dataframe\">\n",
       "  <thead>\n",
       "    <tr style=\"text-align: right;\">\n",
       "      <th></th>\n",
       "      <th>intercept</th>\n",
       "      <th>slope</th>\n",
       "      <th>s_error</th>\n",
       "      <th>pearson</th>\n",
       "    </tr>\n",
       "  </thead>\n",
       "  <tbody>\n",
       "    <tr>\n",
       "      <th>anova_3</th>\n",
       "      <td>0.070737</td>\n",
       "      <td>0.961622</td>\n",
       "      <td>0.003297</td>\n",
       "      <td>0.988403</td>\n",
       "    </tr>\n",
       "    <tr>\n",
       "      <th>anova_8</th>\n",
       "      <td>0.113113</td>\n",
       "      <td>0.898279</td>\n",
       "      <td>0.003029</td>\n",
       "      <td>0.988781</td>\n",
       "    </tr>\n",
       "    <tr>\n",
       "      <th>correlation</th>\n",
       "      <td>-0.024734</td>\n",
       "      <td>1.018206</td>\n",
       "      <td>0.002476</td>\n",
       "      <td>0.994132</td>\n",
       "    </tr>\n",
       "    <tr>\n",
       "      <th>ttest_1</th>\n",
       "      <td>0.000319</td>\n",
       "      <td>0.999800</td>\n",
       "      <td>0.002294</td>\n",
       "      <td>0.994775</td>\n",
       "    </tr>\n",
       "    <tr>\n",
       "      <th>ttest_ind</th>\n",
       "      <td>0.018676</td>\n",
       "      <td>0.976403</td>\n",
       "      <td>0.001124</td>\n",
       "      <td>0.998680</td>\n",
       "    </tr>\n",
       "  </tbody>\n",
       "</table>\n",
       "</div>"
      ],
      "text/plain": [
       "             intercept     slope   s_error   pearson\n",
       "anova_3       0.070737  0.961622  0.003297  0.988403\n",
       "anova_8       0.113113  0.898279  0.003029  0.988781\n",
       "correlation  -0.024734  1.018206  0.002476  0.994132\n",
       "ttest_1       0.000319  0.999800  0.002294  0.994775\n",
       "ttest_ind     0.018676  0.976403  0.001124  0.998680"
      ]
     },
     "execution_count": 20,
     "metadata": {},
     "output_type": "execute_result"
    }
   ],
   "source": [
    "pd.DataFrame.from_dict(correlations, orient='index')"
   ]
  },
  {
   "cell_type": "markdown",
   "metadata": {},
   "source": [
    "We see a high degree of correlation between the traditional method and the emperical method, although some of the breakdown is seen in the ANOVA, espeically with 8 groups. However, the results are highly correlated ($R^{2} > 0.98$)."
   ]
  },
  {
   "cell_type": "markdown",
   "metadata": {},
   "source": [
    "# Works Cited\n"
   ]
  }
 ],
 "metadata": {
  "kernelspec": {
   "display_name": "Python 3",
   "language": "python",
   "name": "python3"
  },
  "language_info": {
   "codemirror_mode": {
    "name": "ipython",
    "version": 3
   },
   "file_extension": ".py",
   "mimetype": "text/x-python",
   "name": "python",
   "nbconvert_exporter": "python",
   "pygments_lexer": "ipython3",
   "version": "3.5.1"
  }
 },
 "nbformat": 4,
 "nbformat_minor": 0
}
