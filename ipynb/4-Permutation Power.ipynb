{
 "cells": [
  {
   "cell_type": "markdown",
   "metadata": {},
   "source": [
    "# Distance-Based tests\n",
    "\n",
    "We can examine the distance based effects used for permanova and the mantel test. Here, the observations are not independent, permutative testing is required...\n",
    "\n",
    "Due to the time requirements of permutation tests, these simulations were run on the Knight Lab's super computer. The functions used on the computer and parameters used to produce the power files are reproduced here. However, we recommend that this notebook be for review, and not be run without a super computer."
   ]
  },
  {
   "cell_type": "code",
   "execution_count": 1,
   "metadata": {
    "collapsed": false
   },
   "outputs": [],
   "source": [
    "import functools\n",
    "import itertools\n",
    "from multiprocessing import Pool\n",
    "import os\n",
    "import pickle\n",
    "\n",
    "import numpy as np\n",
    "import pandas as pd\n",
    "import scipy\n",
    "import skbio\n",
    "\n",
    "from power import subsample_power"
   ]
  },
  {
   "cell_type": "markdown",
   "metadata": {},
   "source": []
  },
  {
   "cell_type": "code",
   "execution_count": 2,
   "metadata": {
    "collapsed": true
   },
   "outputs": [],
   "source": [
    "np.random.seed(25) "
   ]
  },
  {
   "cell_type": "markdown",
   "metadata": {},
   "source": []
  },
  {
   "cell_type": "code",
   "execution_count": 3,
   "metadata": {
    "collapsed": true
   },
   "outputs": [],
   "source": [
    "num_cpus = 10\n",
    "overwrite = True"
   ]
  },
  {
   "cell_type": "markdown",
   "metadata": {},
   "source": []
  },
  {
   "cell_type": "code",
   "execution_count": null,
   "metadata": {
    "collapsed": true
   },
   "outputs": [],
   "source": [
    "num_rounds = 100"
   ]
  },
  {
   "cell_type": "code",
   "execution_count": 4,
   "metadata": {
    "collapsed": true
   },
   "outputs": [],
   "source": [
    "sim_location = './simulations/'\n",
    "if not os.path.exists(sim_location):\n",
    "    raise ValueError('The simulations do not exist. '\n",
    "                     'Go back and simulate some data!')"
   ]
  },
  {
   "cell_type": "markdown",
   "metadata": {},
   "source": []
  },
  {
   "cell_type": "code",
   "execution_count": 5,
   "metadata": {
    "collapsed": true
   },
   "outputs": [],
   "source": [
    "num_rounds = 100"
   ]
  },
  {
   "cell_type": "code",
   "execution_count": 6,
   "metadata": {
    "collapsed": true
   },
   "outputs": [],
   "source": [
    "distributions = {}"
   ]
  },
  {
   "cell_type": "markdown",
   "metadata": {},
   "source": [
    "We're going to vary the number of samples we draw and the level of the test."
   ]
  },
  {
   "cell_type": "code",
   "execution_count": 7,
   "metadata": {
    "collapsed": true
   },
   "outputs": [],
   "source": [
    "depths = [20, 100, 1000]\n",
    "alphas = [0.05, 0.01, 0.001]"
   ]
  },
  {
   "cell_type": "markdown",
   "metadata": {},
   "source": [
    "# Power Calculation\n",
    "\n",
    "## Permanova"
   ]
  },
  {
   "cell_type": "code",
   "execution_count": 17,
   "metadata": {
    "collapsed": false
   },
   "outputs": [],
   "source": [
    "def calculate_permanova_power(simulation, alpha, depth, power_fp):\n",
    "    \"\"\"Description strings are awesome!\"\"\"\n",
    "\n",
    "    # Draws the groups and distance matrix and idenifies the sample\n",
    "    dm, groups = simulation['samples']\n",
    "    samples = [groups.loc[groups == i].index for i in [0, 1]]\n",
    "\n",
    "    # Sets up the count depth because we cannot use bootstrapping easily\n",
    "    # (unless we cheat? Do I need to cheat?)\n",
    "    counts = np.arange(5, len(samples[0]) - 10, 10)\n",
    "\n",
    "    # Defines the statistical test\n",
    "    def test(ids):\n",
    "        obs = np.hstack(ids)\n",
    "        res = skbio.stats.distance.permanova(\n",
    "            distance_matrix=dm.filter(obs),\n",
    "            grouping=groups.loc[obs],\n",
    "            permutations=depth,\n",
    "        )\n",
    "        return res['p-value']\n",
    "    \n",
    "    # Calculates power\n",
    "    power = subsample_power(test=test,\n",
    "                            samples=samples,\n",
    "                            counts=counts,\n",
    "                            num_iter=100,\n",
    "                            num_runs=5,\n",
    "                            alpha=alpha,\n",
    "                            bootstrap=False,\n",
    "                            )\n",
    "    \n",
    "    # Generates the summary dictionary\n",
    "    power_summary = {'emperical_power': power,\n",
    "                     'traditional_power': None,\n",
    "                     'original_p': test(samples),\n",
    "                     'num_obs': len(samples[0]),\n",
    "                     'counts': counts,\n",
    "                     }\n",
    "    \n",
    "    with open(power_fp, 'wb') as f_:\n",
    "        pickle.dump(power_summary, f_)"
   ]
  },
  {
   "cell_type": "markdown",
   "metadata": {},
   "source": []
  },
  {
   "cell_type": "code",
   "execution_count": 23,
   "metadata": {
    "collapsed": false
   },
   "outputs": [],
   "source": [
    "sim_dir = os.path.join(sim_location, 'data/permanova')\n",
    "# Creates the necessary power directories\n",
    "power_dir = os.path.join(sim_location, 'power/permanova/trials/iter_%i-alpha_%s')\n",
    "for (depth, alpha) in itertools.product(depths, alphas):\n",
    "    #  Skips over alpha values that won't give power results\n",
    "    if (1/(depth + 1)) > alpha:\n",
    "        continue\n",
    "    if not os.path.exists(power_dir % (depth, alpha)):\n",
    "        os.makedirs(power_dir % (depth, alpha))"
   ]
  },
  {
   "cell_type": "code",
   "execution_count": null,
   "metadata": {
    "collapsed": false
   },
   "outputs": [],
   "source": [
    "p = Pool(num_cpus)\n",
    "\n",
    "for i in range(num_rounds):\n",
    "    # Loads the simulation\n",
    "    simulation_fp = os.path.join(sim_dir, 'simulation_%i.p' % i)\n",
    "    with open(simulation_fp, 'rb') as f_:\n",
    "        simulation = pickle.load(f_)\n",
    "    \n",
    "    # Iterates through the alpha values and depths\n",
    "    for (depth, alpha) in itertools.product(depths, alphas):\n",
    "        #  Skips over alpha values that won't give power results\n",
    "        if (1/(depth + 1)) > alpha:\n",
    "            continue\n",
    "\n",
    "        # Generates the power calculation if appropriate\n",
    "        power_fp = os.path.join(power_dir, 'simulation_%i.p') % (depth, alpha, i)\n",
    "        if (overwrite or (not os.path.exists(power_fp))):\n",
    "            sim_kwargs = {'simulation': simulation, \n",
    "                          'alpha': alpha, \n",
    "                          'depth': depth, \n",
    "                          'power_fp': power_fp\n",
    "                          }\n",
    "            p.apply_async(calculate_permanova_power, kwds=sim_kwargs)\n",
    "p.close()\n",
    "p.join()"
   ]
  },
  {
   "cell_type": "markdown",
   "metadata": {
    "collapsed": false
   },
   "source": [
    "## Mantel Calculation"
   ]
  },
  {
   "cell_type": "code",
   "execution_count": 48,
   "metadata": {
    "collapsed": true
   },
   "outputs": [],
   "source": [
    "def calculate_mantel_power(simulation, power_fp, alpha, depth):\n",
    "    \"\"\"Wrapper to calculate power for the mantel test\"\"\"\n",
    "    \n",
    "    # Loads the simulation data\n",
    "    with open(os.path.join(sim_dir, 'simulation_%i.p' % i), 'rb') as f_:\n",
    "        sim = pickle.load(f_)\n",
    "    \n",
    "    # Draws the groups and distance matrix and idenifies the sample\n",
    "    x, y = sim['samples']\n",
    "    samples = [np.array(x.ids)]\n",
    "    \n",
    "    # Sets up the counts vector\n",
    "    counts = np.arange(5, len(samples[0]) - 10, 10)\n",
    "    \n",
    "    def test(samples):\n",
    "        obs = samples[0]\n",
    "        res = skbio.stats.distance.mantel(\n",
    "            x.filter(obs),\n",
    "            y.filter(obs),\n",
    "            permutations=depth\n",
    "        )\n",
    "        return res[1]\n",
    "    \n",
    "    power = subsample_power(test=test,\n",
    "                        samples=samples,\n",
    "                        counts=counts,\n",
    "                        num_iter=1000,\n",
    "                        num_runs=3,\n",
    "                        alpha=alpha,\n",
    "                        bootstrap=False,\n",
    "                        draw_mode='matched'\n",
    "                        )\n",
    "    # Generates the summary dictionary\n",
    "    power_summary = {'emperical_power': power,\n",
    "                     'traditional_power': None,\n",
    "                     'original_p': test(samples),\n",
    "                     'num_obs': len(samples[0]),\n",
    "                     'depth': depth,\n",
    "                     'alpha': alpha,\n",
    "                     'counts': counts,\n",
    "                     }\n",
    "    \n",
    "    # Saves the file\n",
    "    with open(power_fp, 'wb') as f_:\n",
    "        pickle.dump(power_summary, f_)"
   ]
  },
  {
   "cell_type": "code",
   "execution_count": 49,
   "metadata": {
    "collapsed": true
   },
   "outputs": [],
   "source": [
    "sim_dir = os.path.join(sim_location, 'data/mantel')\n",
    "# Creates the necessary power directories\n",
    "power_dir = os.path.join(sim_location, 'power/mantel/trials/iter_%i-alpha_%s')\n",
    "for (depth, alpha) in itertools.product(depths, alphas):\n",
    "    #  Skips over alpha values that won't give power results\n",
    "    if (1/(depth + 1)) > alpha:\n",
    "        continue\n",
    "    if not os.path.exists(power_dir % (depth, alpha)):\n",
    "        os.makedirs(power_dir % (depth, alpha))"
   ]
  },
  {
   "cell_type": "code",
   "execution_count": null,
   "metadata": {
    "collapsed": true
   },
   "outputs": [],
   "source": [
    "p = Pool(num_cpus)\n",
    "\n",
    "for i in range(num_rounds):\n",
    "    # Loads the simulation\n",
    "    simulation_fp = os.path.join(sim_dir, 'simulation_%i.p' % i)\n",
    "    with open(simulation_fp, 'rb') as f_:\n",
    "        simulation = pickle.load(f_)\n",
    "    \n",
    "    # Iterates through the alpha values and depths\n",
    "    for (depth, alpha) in itertools.product(depths, alphas):\n",
    "        #  Skips over alpha values that won't give power results\n",
    "        if (1/(depth + 1)) > alpha:\n",
    "            continue\n",
    "\n",
    "        # Generates the power calculation if appropriate\n",
    "        power_fp = os.path.join(power_dir, 'simulation_%i.p') % (depth, alpha, i)\n",
    "        if (overwrite or (not os.path.exists(power_fp))):\n",
    "            sim_kwargs = {'simulation': simulation, \n",
    "                          'alpha': alpha, \n",
    "                          'depth': depth, \n",
    "                          'power_fp': power_fp\n",
    "                          }\n",
    "            p.apply_async(calculate_mantel_power, kwds=sim_kwargs)\n",
    "p.close()\n",
    "p.join()"
   ]
  }
 ],
 "metadata": {
  "kernelspec": {
   "display_name": "Python 3",
   "language": "python",
   "name": "python3"
  },
  "language_info": {
   "codemirror_mode": {
    "name": "ipython",
    "version": 3
   },
   "file_extension": ".py",
   "mimetype": "text/x-python",
   "name": "python",
   "nbconvert_exporter": "python",
   "pygments_lexer": "ipython3",
   "version": "3.5.1"
  }
 },
 "nbformat": 4,
 "nbformat_minor": 0
}
