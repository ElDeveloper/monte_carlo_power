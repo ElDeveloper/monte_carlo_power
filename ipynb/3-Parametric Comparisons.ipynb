{
 "cells": [
  {
   "cell_type": "markdown",
   "metadata": {},
   "source": [
    "# Effect size extrapolation"
   ]
  },
  {
   "cell_type": "markdown",
   "metadata": {},
   "source": [
    "In the [last notebook], we calculated emperical and distribution-based power for five types of statistical tests:\n",
    "* One Sample T test\n",
    "* Independent Sample t test \n",
    "* One way ANOVA, 3 groups\n",
    "* One way ANOVA, 8 groups\n",
    "* Linear correlation\n",
    "\n",
    "We will now evaluate "
   ]
  },
  {
   "cell_type": "code",
   "execution_count": null,
   "metadata": {
    "collapsed": false
   },
   "outputs": [],
   "source": [
    "import copy\n",
    "import os\n",
    "import pickle\n",
    "import warnings\n",
    "\n",
    "import matplotlib.pyplot as plt\n",
    "import numpy as np\n",
    "import pandas as pd\n",
    "import seaborn as sn\n",
    "import scipy\n",
    "# import statsmodels.api as sms\n",
    "import statsmodels.formula.api as smf\n",
    "\n",
    "import emp_power.traditional as trad\n",
    "import emp_power.effects as eff\n",
    "import emp_power.plot as plot\n",
    "\n",
    "% matplotlib inline\n",
    "sn.set_style('ticks')"
   ]
  },
  {
   "cell_type": "code",
   "execution_count": null,
   "metadata": {
    "collapsed": true
   },
   "outputs": [],
   "source": [
    "warnings.filterwarnings('ignore')"
   ]
  },
  {
   "cell_type": "markdown",
   "metadata": {},
   "source": []
  },
  {
   "cell_type": "code",
   "execution_count": null,
   "metadata": {
    "collapsed": false
   },
   "outputs": [],
   "source": [
    "num_rounds = 100\n",
    "alpha = 0.05\n",
    "counts = np.arange(5, 100, 10)\n",
    "colormap = 'Greys'\n",
    "overwrite = True"
   ]
  },
  {
   "cell_type": "code",
   "execution_count": null,
   "metadata": {
    "collapsed": true
   },
   "outputs": [],
   "source": [
    "sim_location = './simulations'\n",
    "if not os.path.exists(sim_location):\n",
    "    raise ValueError('The power simulations do not exist.'\n",
    "                     'Please go back to notebooks 2 and 3 and'\n",
    "                     'calculate power.'\n",
    "                     )"
   ]
  },
  {
   "cell_type": "code",
   "execution_count": null,
   "metadata": {
    "collapsed": false
   },
   "outputs": [],
   "source": [
    "colors = sn.color_palette(colormap, n_colors=len(counts))\n",
    "check_color = {count: colors[i] for i, count in enumerate(counts)}"
   ]
  },
  {
   "cell_type": "code",
   "execution_count": null,
   "metadata": {
    "collapsed": false
   },
   "outputs": [],
   "source": [
    "tests = ['ttest_1', 'ttest_ind', 'anova_3', 'anova_8', 'correlation']\n",
    "# tests = ['ttest_1']"
   ]
  },
  {
   "cell_type": "code",
   "execution_count": null,
   "metadata": {
    "collapsed": true
   },
   "outputs": [],
   "source": [
    "extrapolated = ['f_power', 't_power', 'z_power']"
   ]
  },
  {
   "cell_type": "code",
   "execution_count": null,
   "metadata": {
    "collapsed": false
   },
   "outputs": [],
   "source": [
    "distributions = {'ttest_1': {'clean_name': 'One Sample\\nT Test',\n",
    "                               'num_groups': 2,\n",
    "                               'input_dir': './simulations/emperical_power/ttest_1',\n",
    "                               'return_fp': './simulations/extrapolation/ttest_1.txt'\n",
    "                               },\n",
    "                 'ttest_ind': {'clean_name': 'Independent Sample\\n T Test',\n",
    "                               'num_groups': 2,\n",
    "                               'input_dir': './simulations/emperical_power/ttest_ind',\n",
    "                               'return_fp': './simulations/extrapolation/ttest_ind.txt'\n",
    "                               },\n",
    "                 'anova_3': {'clean_name': 'One way ANOVA\\n(3 groups)',\n",
    "                             'num_groups': 3,\n",
    "                             'input_dir': './simulations/emperical_power/anova_3',\n",
    "                             'return_fp': './simulations/extrapolation/anova_3.txt'\n",
    "                             },\n",
    "                 'anova_8': {'clean_name': 'One way ANOVA\\n(8 groups)',\n",
    "                             'num_groups': 8,\n",
    "                             'input_dir': './simulations/emperical_power/anova_8',\n",
    "                             'return_fp': './simulations/extrapolation/anova_8.txt'\n",
    "                             },\n",
    "                 'correlation': {'clean_name': 'Correlation',\n",
    "                                 'num_groups': 2,\n",
    "                                 'input_dir': './simulations/emperical_power/correlation',\n",
    "                                 'return_fp': './simulations/extrapolation/correlation.txt'\n",
    "                                 }\n",
    "                 }"
   ]
  },
  {
   "cell_type": "markdown",
   "metadata": {},
   "source": [
    "We'll start by calculating the emperical and extrapolated effect sizes for the parametric tests."
   ]
  },
  {
   "cell_type": "code",
   "execution_count": null,
   "metadata": {
    "collapsed": false
   },
   "outputs": [],
   "source": [
    "for test_name in tests:\n",
    "    power_dir = distributions[test_name]['input_dir']\n",
    "    num_groups = distributions[test_name]['num_groups']\n",
    "    return_fp = distributions[test_name]['return_fp']\n",
    "    \n",
    "    if not os.path.exists(power_dir):\n",
    "        raise ValueError('%s does not exist' % power_dir)\n",
    "        \n",
    "    summaries = []\n",
    "    \n",
    "    # Loops through the rounds\n",
    "    for i in range(num_rounds):\n",
    "        # Loads through the power simulation for the round\n",
    "        power_fp = os.path.join(power_dir, 'simulation_%i.p' % i)\n",
    "        \n",
    "        with open(power_fp, 'rb') as f_:\n",
    "            sim = pickle.load(f_)\n",
    "        \n",
    "        # Pulls the previously calculated power values\n",
    "        counts = sim['counts']\n",
    "        emperical = sim['emperical_power']\n",
    "        empr_shape = emperical.shape\n",
    "        z_effect = eff.z_effect(counts, emperical)\n",
    "        t_effect = eff.t_effect(counts, emperical)\n",
    "        f_effect = eff.f_effect(counts, emperical, groups=num_groups)\n",
    "        \n",
    "        num_obs = (empr_shape[0] * empr_shape[1])\n",
    "        run_summary = pd.DataFrame({\n",
    "                    'counts': np.hstack([counts] * empr_shape[0]),\n",
    "                    'emperical_power': np.hstack(emperical),\n",
    "                    'traditional_power': np.hstack([sim['traditional_power']] * empr_shape[0]),\n",
    "                    'sim_pos': np.hstack([np.arange(empr_shape[1]) + (i + 1) * 10 \n",
    "                                          for i in range(empr_shape[0])]),\n",
    "                    'z_effect': np.hstack(z_effect),\n",
    "                    't_effect': np.hstack(t_effect),\n",
    "                    'f_effect': np.hstack(f_effect),\n",
    "                    'z_power': np.hstack([eff.z_power(counts, np.nanmean(z_effect))]\n",
    "                                         * empr_shape[0]),\n",
    "                    't_power': np.hstack([eff.t_power(counts, np.nanmean(t_effect))]\n",
    "                                         * empr_shape[0]),\n",
    "                    'f_power': np.hstack([eff.f_power(counts, np.nanmean(f_effect), groups=num_groups)]\n",
    "                                         * empr_shape[0]),\n",
    "                    })\n",
    "        run_summary['color'] = run_summary['counts'].apply(lambda x: check_color[x])\n",
    "        run_summary['test'] = test_name\n",
    "        run_summary['clean_name'] = distributions[test_name]['clean_name']\n",
    "        run_summary['simulation'] = i\n",
    "        run_summary['fit_f-mean'] = np.nanmean(f_effect)\n",
    "        run_summary['fit_f-std'] = np.nanstd(f_effect)\n",
    "        run_summary['fit_f-count'] = np.sum(np.isnan(f_effect) == False) / num_obs\n",
    "        run_summary['fit_t-mean'] = np.nanmean(t_effect)\n",
    "        run_summary['fit_t-std'] = np.nanstd(t_effect)\n",
    "        run_summary['fit_t-count'] = np.sum(np.isnan(t_effect) == False) / num_obs\n",
    "        run_summary['fit_z-mean'] = np.nanmean(z_effect)\n",
    "        run_summary['fit_z-std'] = np.nanstd(z_effect)\n",
    "        run_summary['fit_z-count'] = np.sum(np.isnan(z_effect) == False) / num_obs\n",
    "        run_summary['index'] = (run_summary['test'] + '.' +  \n",
    "                                run_summary['simulation'].apply(lambda x: '%i' % x) + '.' +\n",
    "                                run_summary['sim_pos'].apply(lambda x: '%i' % x))\n",
    "        run_summary.set_index('index', inplace=True)\n",
    "        \n",
    "        summaries.append(pd.DataFrame(run_summary))\n",
    "    summaries = pd.concat(summaries)\n",
    "    summaries.to_csv(return_fp, sep='\\t')\n",
    "    distributions[test_name]['summary'] = summaries\n"
   ]
  },
  {
   "cell_type": "markdown",
   "metadata": {},
   "source": [
    "We're going to plot a comparison between the emperical and traditional power calculations, to see if there's a strong relationship. We'll plot the distribution-based power on the x axis and the emperical power on the y axis."
   ]
  },
  {
   "cell_type": "code",
   "execution_count": null,
   "metadata": {
    "collapsed": false
   },
   "outputs": [],
   "source": [
    "# Sets up the figure and axes\n",
    "tr_fig, tr_axes = plt.subplots(4, 5)\n",
    "tr_fig.set_size_inches(10, 8)\n",
    "\n",
    "# Hides the axes until they're needed\n",
    "for ax_r in tr_axes[1:]:\n",
    "    for ax in ax_r:\n",
    "        ax.set_visible(False)\n",
    "\n",
    "sn.despine()\n",
    "\n",
    "for idx, (test_name, ax) in enumerate(zip(*(tests, tr_axes[0]))):\n",
    "    summary = distributions[test_name]['summary']\n",
    "    plot.gradient_regression(ax, y='emperical_power', \n",
    "                             x='traditional_power', \n",
    "                             gradient='color', \n",
    "                             data=summary, \n",
    "                             alpha=0.25)\n",
    "    plot.format_regression_axis(ax)\n",
    "    ax.set_title(summary['clean_name'].values[0])\n",
    "    ax.set_xticklabels(ax.get_xticks())\n",
    "tr_axes[0][0].set_yticklabels(ax.get_yticks())\n",
    "tr_axes[0][0].set_ylabel('Emperical Power')\n",
    "tr_axes[0][2].set_xlabel('Traditional Power')"
   ]
  },
  {
   "cell_type": "markdown",
   "metadata": {},
   "source": [
    "We can also look at the fit data behaves. So, we'll add an additional three rows to the plot, which show the "
   ]
  },
  {
   "cell_type": "code",
   "execution_count": null,
   "metadata": {
    "collapsed": false,
    "scrolled": false
   },
   "outputs": [],
   "source": [
    "for ax_r in tr_axes[1:]:\n",
    "    for ax in ax_r:\n",
    "        ax.set_visible(True)\n",
    "for ax in tr_axes[0]:\n",
    "    ax.set_xticklabels('')\n",
    "    ax.set_xlabel('')\n",
    "    \n",
    "for idc, test_name in enumerate(tests):\n",
    "    summary = distributions[test_name]['summary']\n",
    "    for metric, ax_reg in zip(*[extrapolated, tr_axes.T[idc][1:]]):\n",
    "        plot.gradient_regression(ax=ax_reg, \n",
    "                            x='traditional_power', \n",
    "                            y=metric, \n",
    "                            gradient='color', \n",
    "                            alpha=0.25,\n",
    "                            data=summary\n",
    "                            )\n",
    "        plot.format_regression_axis(ax_reg)\n",
    "        if metric == 'z_power':\n",
    "            ax_reg.set_xticklabels(ax_reg.get_xticks())\n",
    "        if test_name == tests[0]:\n",
    "            ax_reg.set_yticklabels(ax_reg.get_yticks())\n",
    "            ax_reg.set_ylabel(metric.replace('_', ' ').capitalize())\n",
    "        \n",
    "tr_axes[-1][2].set_xlabel('Distribution-based Power')\n",
    "tr_fig"
   ]
  },
  {
   "cell_type": "markdown",
   "metadata": {},
   "source": [
    "For most of the effect sizes and fits, we find the behavior of the curve \n",
    "\n",
    "Let's also compare the behavior of the emperical power and the fit power curves. "
   ]
  },
  {
   "cell_type": "code",
   "execution_count": null,
   "metadata": {
    "collapsed": false
   },
   "outputs": [],
   "source": [
    "# Sets up the figure and axes\n",
    "er_fig, er_axes = plt.subplots(3, 5)\n",
    "er_fig.set_size_inches(10, 6)\n",
    "sn.despine()\n",
    "\n",
    "for idc, test_name in enumerate(tests):\n",
    "    summary = distributions[test_name]['summary']\n",
    "    for metric, ax_reg in zip(*[extrapolated, er_axes.T[idc]]):\n",
    "        plot.gradient_regression(ax=ax_reg, \n",
    "                            x='emperical_power', \n",
    "                            y=metric, \n",
    "                            gradient='color', \n",
    "                            alpha=0.25,\n",
    "                            data=summary\n",
    "                            )\n",
    "        plot.format_regression_axis(ax_reg)\n",
    "        if metric == 'z_power':\n",
    "            ax_reg.set_xticklabels(ax_reg.get_xticks())\n",
    "        if test_name == tests[0]:\n",
    "            ax_reg.set_yticklabels(ax_reg.get_yticks())\n",
    "            ax_reg.set_ylabel(metric.replace('_', ' ').capitalize())\n",
    "        \n",
    "er_axes[-1][2].set_xlabel('Emperical Power')"
   ]
  },
  {
   "cell_type": "markdown",
   "metadata": {},
   "source": [
    "Based on the color by depth, it looks like the emperical power and extrapolated values do not behave as well at lower count values. We can recalculate the fit curves excluding these lower values, to see if this improves the fit.\n",
    "\n",
    "We also notice that the F distribution with $k - 1$ degrees of freedom does not behave well for the 8 group ANOVA. With fewer groups, the F distribution behaves simillarly to the T and Z distribution. However, as the number of groups increase, the distribution does not behave appropriately. This suggests that the power calculation may be better approximated by assuming a normal distribution than using the approximation based on group size."
   ]
  },
  {
   "cell_type": "markdown",
   "metadata": {},
   "source": [
    "Finally, an additional consideration in selecting the appropriate effect size metric is to determine how frequently a particular metric cannot be defined."
   ]
  },
  {
   "cell_type": "code",
   "execution_count": null,
   "metadata": {
    "collapsed": false
   },
   "outputs": [],
   "source": [
    "all_tests = pd.concat([distributions[test_name]['summary'] for test_name in tests])\n",
    "all_tests.groupby('test').count()[['f_effect', 't_effect', 'z_effect']] / 3000"
   ]
  },
  {
   "cell_type": "markdown",
   "metadata": {},
   "source": [
    "So, in this notebook we have demonstrated that emperically calculated power behaves as well as distribution-based calculations for parametric distributions. We've furthermore observed that fitting the emperical curves with effect size parameters generates power curves which closely fit both the distribution and emperical data. However, we find the performance o the different fitting approaches varies. \n",
    "\n",
    "The calculation based on the z distribution is the most robust, while the calculation based on the F distribution is the least robust, where robustness is measured as the percentgae of calculations where power could not be calculated."
   ]
  },
  {
   "cell_type": "markdown",
   "metadata": {},
   "source": [
    "In the next notebook, we will explore the behavior of the permutative tests under similar condtions, to validate that these tests also work."
   ]
  }
 ],
 "metadata": {
  "kernelspec": {
   "display_name": "Python 3",
   "language": "python",
   "name": "python3"
  },
  "language_info": {
   "codemirror_mode": {
    "name": "ipython",
    "version": 3
   },
   "file_extension": ".py",
   "mimetype": "text/x-python",
   "name": "python",
   "nbconvert_exporter": "python",
   "pygments_lexer": "ipython3",
   "version": "3.5.1"
  }
 },
 "nbformat": 4,
 "nbformat_minor": 0
}
