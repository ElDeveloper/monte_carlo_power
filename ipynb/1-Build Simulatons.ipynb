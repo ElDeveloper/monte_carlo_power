{
 "cells": [
  {
   "cell_type": "markdown",
   "metadata": {},
   "source": [
    "# Simulate Data\n",
    "\n",
    "We're going to use this notebook to simulate a bunch of distributions and data sets."
   ]
  },
  {
   "cell_type": "code",
   "execution_count": 1,
   "metadata": {
    "collapsed": true
   },
   "outputs": [],
   "source": [
    "import os\n",
    "import pickle\n",
    "\n",
    "import numpy as np\n",
    "import pandas as pd\n",
    "import scipy.stats\n",
    "import skbio\n",
    "import seaborn as sn\n",
    "% matplotlib inline\n",
    "import statsmodels.api as sm\n",
    "import matplotlib.pyplot as plt\n",
    "\n",
    "import emp_power.simulate as sim\n",
    "\n",
    "sn.set_style('ticks')"
   ]
  },
  {
   "cell_type": "code",
   "execution_count": 2,
   "metadata": {
    "collapsed": true
   },
   "outputs": [],
   "source": [
    "np.random.seed(25)"
   ]
  },
  {
   "cell_type": "markdown",
   "metadata": {},
   "source": [
    "We'll perfrom 100 simulations"
   ]
  },
  {
   "cell_type": "code",
   "execution_count": 3,
   "metadata": {
    "collapsed": true
   },
   "outputs": [],
   "source": [
    "sim_location = './simulations/'\n",
    "if not os.path.exists(sim_location):\n",
    "    os.makedirs(sim_location)\n",
    "overwrite = True"
   ]
  },
  {
   "cell_type": "code",
   "execution_count": 4,
   "metadata": {
    "collapsed": true
   },
   "outputs": [],
   "source": [
    "num_rounds = 100\n",
    "distributions = {}"
   ]
  },
  {
   "cell_type": "markdown",
   "metadata": {},
   "source": []
  },
  {
   "cell_type": "code",
   "execution_count": 5,
   "metadata": {
    "collapsed": true
   },
   "outputs": [],
   "source": [
    "def retrieve_test(simulation_type):\n",
    "    \"\"\"The simulation function, test, and simulation parameters\"\"\"\n",
    "    simulation = distributions[simulation_type]['function']\n",
    "    test = distributions[simulation_type]['test']\n",
    "    kwargs = distributions[simulation_type]['kwargs']\n",
    "    \n",
    "    return simulation, test, kwargs"
   ]
  },
  {
   "cell_type": "markdown",
   "metadata": {},
   "source": [
    "# Categorical Tests\n",
    "\n",
    "## One Sample T test"
   ]
  },
  {
   "cell_type": "code",
   "execution_count": 6,
   "metadata": {
    "collapsed": false
   },
   "outputs": [],
   "source": [
    "distributions['ttest_1'] = {'function': sim.simulate_ttest_1,\n",
    "                            'test': lambda x: scipy.stats.ttest_1samp(*x, 0),\n",
    "                            'kwargs': {'mu_lim': [5, 10],\n",
    "                                       'sigma_lim': [5, 8],\n",
    "                                       'count_lim': [60, 100]}\n",
    "                            }"
   ]
  },
  {
   "cell_type": "markdown",
   "metadata": {},
   "source": [
    "## Two Sample Independent T test"
   ]
  },
  {
   "cell_type": "code",
   "execution_count": 7,
   "metadata": {
    "collapsed": false
   },
   "outputs": [],
   "source": [
    "distributions['ttest_ind'] = {'function': sim.simulate_ttest_ind,\n",
    "                              'test': lambda x: scipy.stats.ttest_ind(*samples),\n",
    "                              'kwargs': {'mu_lim': [0, 10],\n",
    "                                         'sigma_lim': [5, 15],\n",
    "                                         'counts_lim': [60, 100]}\n",
    "                              }"
   ]
  },
  {
   "cell_type": "markdown",
   "metadata": {},
   "source": [
    "## One way ANOVA"
   ]
  },
  {
   "cell_type": "code",
   "execution_count": 8,
   "metadata": {
    "collapsed": true
   },
   "outputs": [],
   "source": [
    "distributions['anova_3'] = {'function': sim.simulate_anova,\n",
    "                            'test': lambda x: scipy.stats.f_oneway(*x),\n",
    "                            'kwargs': {'mu_lim': [0, 10],\n",
    "                                       'sigma_lim': [5, 15],\n",
    "                                       'count_lim': [60, 100],\n",
    "                                       'num_pops': 3}\n",
    "                            }\n",
    "distributions['anova_8'] = {'function': sim.simulate_anova,\n",
    "                            'test': lambda x: scipy.stats.f_oneway(*x),\n",
    "                            'kwargs': {'mu_lim': [0, 10],\n",
    "                                       'sigma_lim': [5, 15],\n",
    "                                       'count_lim': [60, 100],\n",
    "                                       'num_pops': 8}\n",
    "                            }"
   ]
  },
  {
   "cell_type": "markdown",
   "metadata": {},
   "source": [
    "## Bimodal distribution"
   ]
  },
  {
   "cell_type": "code",
   "execution_count": 9,
   "metadata": {
    "collapsed": true
   },
   "outputs": [],
   "source": [
    "distributions['bimodal'] = {'function': sim.simulate_bimodal,\n",
    "                            'test': lambda x: scipy.stats.mannwhitneyu(*x),\n",
    "                            'kwargs': {'mu_lim': [-2, 4],\n",
    "                                       'sigma_lim': [1, 5],\n",
    "                                       'count_lim': [60, 100],\n",
    "                                       'bench_lim': [30, 50],\n",
    "                                       'diff_lim': [0, 5],\n",
    "                                       'sep_lim': [4, 8]}\n",
    "                            }"
   ]
  },
  {
   "cell_type": "markdown",
   "metadata": {},
   "source": [
    "## PERMANOVA on distance matrix"
   ]
  },
  {
   "cell_type": "code",
   "execution_count": 10,
   "metadata": {
    "collapsed": true
   },
   "outputs": [],
   "source": [
    "def permanova_test(samples):\n",
    "    \"\"\"Wraps the scikit-bio permanova for convenience\"\"\"\n",
    "    [dm, groups] = samples\n",
    "    res = skbio.stats.distance.permanova(dm,\n",
    "                                         groups,\n",
    "                                         permutations=99)\n",
    "    return res['p-value']"
   ]
  },
  {
   "cell_type": "code",
   "execution_count": 11,
   "metadata": {
    "collapsed": false
   },
   "outputs": [],
   "source": [
    "distributions['permanova_distance'] = {'function': sim.simulate_permanova,\n",
    "                                       'test': permanova_test,\n",
    "                                       'kwargs': {'num_samples': np.random.randint(60, 100),\n",
    "                                                  'num0': None,\n",
    "                                                  'wdist': [0, 0.5],\n",
    "                                                  'wspread': [0, 0.5], \n",
    "                                                  'bdist': [0, 0.5],\n",
    "                                                  'bspread': [0, 0.5],\n",
    "                                                  }\n",
    "                                       }"
   ]
  },
  {
   "cell_type": "markdown",
   "metadata": {},
   "source": [
    "# Continous Distributions\n",
    "\n",
    "## Univariate Correlation"
   ]
  },
  {
   "cell_type": "code",
   "execution_count": 24,
   "metadata": {
    "collapsed": true
   },
   "outputs": [],
   "source": [
    "distributions['correlation'] = {'function': sim.simulate_correlation,\n",
    "                                'test': lambda x: scipy.stats.pearsonr(*x),\n",
    "                                'kwargs': {'slope_lim': [1, 5],\n",
    "                                           'intercept_lim': [-2, 2],\n",
    "                                           'sigma_lim': [2, 10],\n",
    "                                           'count_lim': [60, 100]}\n",
    "                                 }"
   ]
  },
  {
   "cell_type": "markdown",
   "metadata": {},
   "source": [
    "## Multivariate Correlation"
   ]
  },
  {
   "cell_type": "code",
   "execution_count": 25,
   "metadata": {
    "collapsed": true
   },
   "outputs": [],
   "source": [
    "def multivariate_test(samples):\n",
    "    \"\"\"Wraps the statsmodels Ordinary Least Squares model\"\"\"\n",
    "    [xs, y] = samples\n",
    "    r = sm.OLS(y, sm.add_constant(xs)).fit()\n",
    "    return r.pvalues"
   ]
  },
  {
   "cell_type": "code",
   "execution_count": 26,
   "metadata": {
    "collapsed": false
   },
   "outputs": [],
   "source": [
    "distributions['multivariate'] = {'function': sim.simulate_multivariate,\n",
    "                                'test': multivariate_test,\n",
    "                                'kwargs': {'slope_lim': [-5, 5],\n",
    "                                           'intercept_lim': [-3, 3],\n",
    "                                           'sigma_lim': [3, 8],\n",
    "                                           'count_lim': [60, 100],\n",
    "                                           'x_lim': [-10, 10],\n",
    "                                           'num_pops': 3,\n",
    "                                           }\n",
    "                                }"
   ]
  },
  {
   "cell_type": "markdown",
   "metadata": {},
   "source": [
    "## Distance Correlation"
   ]
  },
  {
   "cell_type": "code",
   "execution_count": 27,
   "metadata": {
    "collapsed": true
   },
   "outputs": [],
   "source": [
    "def mantel_test(samples):\n",
    "    \"\"\"Wraps the scikit-bio mantel test\"\"\"\n",
    "    [x, y] = samples\n",
    "    return skbio.stats.distance.mantel(x, y, \n",
    "                                       method='spearman', \n",
    "                                       permutations=99)[1]"
   ]
  },
  {
   "cell_type": "code",
   "execution_count": 28,
   "metadata": {
    "collapsed": true
   },
   "outputs": [],
   "source": [
    "distributions['mantel'] = {'function': sim.simulate_mantel,\n",
    "                           'test': mantel_test,\n",
    "                           'kwargs': {'slope_lim': [1, 5],\n",
    "                                      'intercept_lim': [-2, 2],\n",
    "                                      'sigma_lim': [2, 10],\n",
    "                                      'count_lim': [60, 100]}\n",
    "                           }"
   ]
  },
  {
   "cell_type": "markdown",
   "metadata": {},
   "source": [
    "# Simulates the data"
   ]
  },
  {
   "cell_type": "code",
   "execution_count": 29,
   "metadata": {
    "collapsed": false
   },
   "outputs": [
    {
     "name": "stdout",
     "output_type": "stream",
     "text": [
      "multivariate\n",
      "anova_3\n",
      "mantel\n",
      "anova_8\n",
      "bimodal\n",
      "ttest_ind\n",
      "correlation\n",
      "ttest_1\n",
      "permanova_distance\n"
     ]
    }
   ],
   "source": [
    "for test_name in distributions.keys():\n",
    "    print(test_name)\n",
    "    # Gets the simulation function, test, and arguments\n",
    "    simulation, test, kwargs = retrieve_test(test_name)\n",
    "    if not os.path.exists(os.path.join(sim_location, test_name)):\n",
    "        os.makedirs(os.path.join(sim_location, test_name))\n",
    "    # Permforms the simulations\n",
    "    for i in range(num_rounds):\n",
    "        file = os.path.join(sim_location, '%s/simulation_%i.p' % (test_name, i))\n",
    "        params, samples = simulation(**kwargs)\n",
    "        p = test(samples)\n",
    "        with open(file, 'wb') as f_:\n",
    "            pickle.dump({'samples': samples, 'params': params, 'p_value': p}, f_)"
   ]
  }
 ],
 "metadata": {
  "kernelspec": {
   "display_name": "Python 3",
   "language": "python",
   "name": "python3"
  },
  "language_info": {
   "codemirror_mode": {
    "name": "ipython",
    "version": 3
   },
   "file_extension": ".py",
   "mimetype": "text/x-python",
   "name": "python",
   "nbconvert_exporter": "python",
   "pygments_lexer": "ipython3",
   "version": "3.5.1"
  }
 },
 "nbformat": 4,
 "nbformat_minor": 0
}
