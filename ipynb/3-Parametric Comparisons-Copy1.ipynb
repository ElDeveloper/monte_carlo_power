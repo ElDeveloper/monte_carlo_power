{
 "cells": [
  {
   "cell_type": "markdown",
   "metadata": {},
   "source": [
    "# Effect size extrapolation"
   ]
  },
  {
   "cell_type": "markdown",
   "metadata": {},
   "source": [
    "In the [last notebook], we calculated emperical and distribution-based power for five types of statistical tests:\n",
    "* One Sample T test\n",
    "* Independent Sample t test \n",
    "* One way ANOVA, 3 groups\n",
    "* One way ANOVA, 8 groups\n",
    "* Linear correlation\n",
    "\n",
    "We will now evaluate "
   ]
  },
  {
   "cell_type": "code",
   "execution_count": 1,
   "metadata": {
    "collapsed": false
   },
   "outputs": [],
   "source": [
    "import copy\n",
    "import os\n",
    "import pickle\n",
    "import warnings\n",
    "\n",
    "import matplotlib.pyplot as plt\n",
    "import numpy as np\n",
    "import pandas as pd\n",
    "import seaborn as sn\n",
    "import scipy\n",
    "# import statsmodels.api as sms\n",
    "import statsmodels.formula.api as smf\n",
    "\n",
    "import emp_power.traditional as trad\n",
    "import emp_power.effects as eff\n",
    "import emp_power.plot as plot\n",
    "\n",
    "% matplotlib inline\n",
    "sn.set_style('ticks')"
   ]
  },
  {
   "cell_type": "code",
   "execution_count": 2,
   "metadata": {
    "collapsed": true
   },
   "outputs": [],
   "source": [
    "warnings.filterwarnings('ignore')"
   ]
  },
  {
   "cell_type": "markdown",
   "metadata": {},
   "source": []
  },
  {
   "cell_type": "code",
   "execution_count": 3,
   "metadata": {
    "collapsed": true
   },
   "outputs": [],
   "source": [
    "num_rounds = 100\n",
    "alpha = 0.05\n",
    "counts = np.arange(5, 100, 10)\n",
    "colormap = 'Spectral'\n",
    "overwrite = True"
   ]
  },
  {
   "cell_type": "code",
   "execution_count": 4,
   "metadata": {
    "collapsed": true
   },
   "outputs": [],
   "source": [
    "sim_location = './simulations'\n",
    "if not os.path.exists(sim_location):\n",
    "    raise ValueError('The power simulations do not exist.'\n",
    "                     'Please go back to notebooks 2 and 3 and'\n",
    "                     'calculate power.'\n",
    "                     )"
   ]
  },
  {
   "cell_type": "code",
   "execution_count": 5,
   "metadata": {
    "collapsed": false
   },
   "outputs": [],
   "source": [
    "colors = sn.color_palette(colormap, n_colors=len(counts))\n",
    "check_color = {count: colors[i] for i, count in enumerate(counts)}"
   ]
  },
  {
   "cell_type": "code",
   "execution_count": 22,
   "metadata": {
    "collapsed": false
   },
   "outputs": [],
   "source": [
    "tests = ['permanova', 'mantel']\n",
    "# tests = ['ttest_1']"
   ]
  },
  {
   "cell_type": "code",
   "execution_count": 7,
   "metadata": {
    "collapsed": true
   },
   "outputs": [],
   "source": [
    "extrapolated = ['f_power', 't_power', 'z_power']"
   ]
  },
  {
   "cell_type": "code",
   "execution_count": 23,
   "metadata": {
    "collapsed": false
   },
   "outputs": [],
   "source": [
    "distributions = {'permanova': {'clean_name': 'PERMANOVA',\n",
    "                               'num_groups': 2,\n",
    "                               'input_dir': './simulations/emperical_power/permanova',\n",
    "                               'return_fp': './simulations/extrapolation/permanova.txt'\n",
    "                               },\n",
    "                 'mantel': {'clean_name': 'Independent Sample\\n T Test',\n",
    "                            'num_groups': 2,\n",
    "                            'input_dir': './simulations/emperical_power/ttest_ind',\n",
    "                            'return_fp': './simulations/extrapolation/ttest_ind.txt'\n",
    "                            },\n",
    "#                  'anova_3': {'clean_name': 'One way ANOVA\\n(3 groups)',\n",
    "#                              'num_groups': 3,\n",
    "#                              'input_dir': './simulations/emperical_power/anova_3',\n",
    "#                              'return_fp': './simulations/extrapolation/anova_3.txt'\n",
    "#                              },\n",
    "#                  'anova_8': {'clean_name': 'One way ANOVA\\n(8 groups)',\n",
    "#                              'num_groups': 8,\n",
    "#                              'input_dir': './simulations/emperical_power/anova_8',\n",
    "#                              'return_fp': './simulations/extrapolation/anova_8.txt'\n",
    "#                              },\n",
    "#                  'correlation': {'clean_name': 'Correlation',\n",
    "#                                  'num_groups': 2,\n",
    "#                                  'input_dir': './simulations/emperical_power/correlation',\n",
    "#                                  'return_fp': './simulations/extrapolation/correlation.txt'\n",
    "#                                  }\n",
    "                 }"
   ]
  },
  {
   "cell_type": "markdown",
   "metadata": {},
   "source": [
    "We'll start by calculating the emperical and extrapolated effect sizes for the parametric tests."
   ]
  },
  {
   "cell_type": "code",
   "execution_count": 24,
   "metadata": {
    "collapsed": false
   },
   "outputs": [],
   "source": [
    "for test_name in tests:\n",
    "    power_dir = distributions[test_name]['input_dir']\n",
    "    num_groups = distributions[test_name]['num_groups']\n",
    "    return_fp = distributions[test_name]['return_fp']\n",
    "    \n",
    "    if not os.path.exists(power_dir):\n",
    "        raise ValueError('%s does not exist' % power_dir)\n",
    "        \n",
    "    summaries = []\n",
    "    \n",
    "    # Loops through the rounds\n",
    "    for i in range(10):\n",
    "        # Loads through the power simulation for the round\n",
    "        power_fp = os.path.join(power_dir, 'simulation_%i.p' % i)\n",
    "        \n",
    "        try:\n",
    "            with open(power_fp, 'rb') as f_:\n",
    "                sim = pickle.load(f_)\n",
    "        except:\n",
    "            pass\n",
    "        \n",
    "        # Pulls the previously calculated power values\n",
    "        counts = sim['counts']\n",
    "        emperical = sim['emperical_power']\n",
    "        empr_shape = emperical.shape\n",
    "        z_effect = eff.z_effect(counts, emperical)\n",
    "        t_effect = eff.t_effect(counts, emperical)\n",
    "        f_effect = eff.f_effect(counts, emperical, groups=num_groups)\n",
    "        num_obs = (empr_shape[0] * empr_shape[1])\n",
    "        run_summary = pd.DataFrame({\n",
    "                    'counts': np.hstack([counts] * empr_shape[0]),\n",
    "                    'emperical_power': np.hstack(emperical),\n",
    "                    'sim_pos': np.hstack([np.arange(empr_shape[1]) + (i + 1) * 10 \n",
    "                                          for i in range(empr_shape[0])]),\n",
    "                    'z_effect': np.hstack(z_effect),\n",
    "                    't_effect': np.hstack(t_effect),\n",
    "                    'f_effect': np.hstack(f_effect),\n",
    "                    'z_power': np.hstack([eff.z_power(counts, np.nanmean(z_effect))]\n",
    "                                         * empr_shape[0]),\n",
    "                    't_power': np.hstack([eff.t_power(counts, np.nanmean(t_effect))]\n",
    "                                         * empr_shape[0]),\n",
    "                    'f_power': np.hstack([eff.f_power(counts, np.nanmean(f_effect), groups=num_groups)]\n",
    "                                         * empr_shape[0]),\n",
    "                    })\n",
    "        run_summary['color'] = run_summary['counts'].apply(lambda x: check_color[x])\n",
    "        run_summary['test'] = test_name\n",
    "        run_summary['clean_name'] = distributions[test_name]['clean_name']\n",
    "        run_summary['simulation'] = i\n",
    "        run_summary['fit_f-mean'] = np.nanmean(f_effect)\n",
    "        run_summary['fit_f-std'] = np.nanstd(f_effect)\n",
    "        run_summary['fit_f-count'] = np.sum(np.isnan(f_effect) == False) / num_obs\n",
    "        run_summary['fit_t-mean'] = np.nanmean(t_effect)\n",
    "        run_summary['fit_t-std'] = np.nanstd(t_effect)\n",
    "        run_summary['fit_t-count'] = np.sum(np.isnan(t_effect) == False) / num_obs\n",
    "        run_summary['fit_z-mean'] = np.nanmean(z_effect)\n",
    "        run_summary['fit_z-std'] = np.nanstd(z_effect)\n",
    "        run_summary['fit_z-count'] = np.sum(np.isnan(z_effect) == False) / num_obs\n",
    "        run_summary['index'] = (run_summary['test'] + '.' +  \n",
    "                                run_summary['simulation'].apply(lambda x: '%i' % x) + '.' +\n",
    "                                run_summary['sim_pos'].apply(lambda x: '%i' % x))\n",
    "        run_summary.set_index('index', inplace=True)\n",
    "        summaries.append(pd.DataFrame(run_summary))\n",
    "    summaries = pd.concat(summaries)\n",
    "    summaries.to_csv(return_fp, sep='\\t')\n",
    "    distributions[test_name]['summary'] = summaries"
   ]
  },
  {
   "cell_type": "markdown",
   "metadata": {},
   "source": [
    "For most of the effect sizes and fits, we find the behavior of the curve \n",
    "\n",
    "Let's also compare the behavior of the emperical power and the fit power curves. "
   ]
  },
  {
   "cell_type": "code",
   "execution_count": 1,
   "metadata": {
    "collapsed": false,
    "scrolled": false
   },
   "outputs": [
    {
     "ename": "NameError",
     "evalue": "name 'plt' is not defined",
     "output_type": "error",
     "traceback": [
      "\u001b[0;31m---------------------------------------------------------------------------\u001b[0m",
      "\u001b[0;31mNameError\u001b[0m                                 Traceback (most recent call last)",
      "\u001b[0;32m<ipython-input-1-cbf206f468a9>\u001b[0m in \u001b[0;36m<module>\u001b[0;34m()\u001b[0m\n\u001b[1;32m      1\u001b[0m \u001b[0;31m# Sets up the figure and axes\u001b[0m\u001b[0;34m\u001b[0m\u001b[0;34m\u001b[0m\u001b[0m\n\u001b[0;32m----> 2\u001b[0;31m \u001b[0mer_fig\u001b[0m\u001b[0;34m,\u001b[0m \u001b[0mer_axes\u001b[0m \u001b[0;34m=\u001b[0m \u001b[0mplt\u001b[0m\u001b[0;34m.\u001b[0m\u001b[0msubplots\u001b[0m\u001b[0;34m(\u001b[0m\u001b[0;36m3\u001b[0m\u001b[0;34m,\u001b[0m \u001b[0;36m2\u001b[0m\u001b[0;34m)\u001b[0m\u001b[0;34m\u001b[0m\u001b[0m\n\u001b[0m\u001b[1;32m      3\u001b[0m \u001b[0mer_fig\u001b[0m\u001b[0;34m.\u001b[0m\u001b[0mset_size_inches\u001b[0m\u001b[0;34m(\u001b[0m\u001b[0;36m4\u001b[0m\u001b[0;34m,\u001b[0m \u001b[0;36m6\u001b[0m\u001b[0;34m)\u001b[0m\u001b[0;34m\u001b[0m\u001b[0m\n\u001b[1;32m      4\u001b[0m \u001b[0msn\u001b[0m\u001b[0;34m.\u001b[0m\u001b[0mdespine\u001b[0m\u001b[0;34m(\u001b[0m\u001b[0;34m)\u001b[0m\u001b[0;34m\u001b[0m\u001b[0m\n\u001b[1;32m      5\u001b[0m \u001b[0;34m\u001b[0m\u001b[0m\n",
      "\u001b[0;31mNameError\u001b[0m: name 'plt' is not defined"
     ]
    }
   ],
   "source": [
    "# Sets up the figure and axes\n",
    "er_fig, er_axes = plt.subplots(3, 2)\n",
    "er_fig.set_size_inches(4, 6)\n",
    "sn.despine()\n",
    "\n",
    "for idc, test_name in enumerate(tests):\n",
    "    summary = distributions[test_name]['summary']\n",
    "    for metric, ax_reg in zip(*[extrapolated, er_axes.T[idc]]):\n",
    "        plot.gradient_regression(ax=ax_reg, \n",
    "                            x='emperical_power', \n",
    "                            y=metric, \n",
    "                            gradient='color', \n",
    "                            alpha=0.25,\n",
    "                            data=summary\n",
    "                            )\n",
    "        plot.format_regression_axis(ax_reg)\n",
    "        if metric == 'z_power':\n",
    "            ax_reg.set_xticklabels(ax_reg.get_xticks())\n",
    "        if test_name == tests[0]:\n",
    "            ax_reg.set_yticklabels(ax_reg.get_yticks())\n",
    "            ax_reg.set_ylabel(metric.replace('_', ' ').capitalize())\n",
    "        \n",
    "er_axes[-1][2].set_xlabel('Emperical Power')"
   ]
  },
  {
   "cell_type": "markdown",
   "metadata": {},
   "source": [
    "..."
   ]
  }
 ],
 "metadata": {
  "kernelspec": {
   "display_name": "Python 3",
   "language": "python",
   "name": "python3"
  },
  "language_info": {
   "codemirror_mode": {
    "name": "ipython",
    "version": 3
   },
   "file_extension": ".py",
   "mimetype": "text/x-python",
   "name": "python",
   "nbconvert_exporter": "python",
   "pygments_lexer": "ipython3",
   "version": "3.5.1"
  }
 },
 "nbformat": 4,
 "nbformat_minor": 0
}
