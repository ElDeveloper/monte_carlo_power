{
 "cells": [
  {
   "cell_type": "markdown",
   "metadata": {},
   "source": [
    "# Distance-Based tests\n",
    "\n",
    "We can examine the distance based effects used for permanova and the mantel test. Here, the observations are not independent, permutative testing is required...\n",
    "\n",
    "Due to the time requirements of permutation tests, these simulations were run using cluster computing."
   ]
  },
  {
   "cell_type": "code",
   "execution_count": 1,
   "metadata": {
    "collapsed": true
   },
   "outputs": [],
   "source": [
    "import functools\n",
    "import itertools\n",
    "from multiprocessing import Pool\n",
    "import os\n",
    "import pickle\n",
    "\n",
    "import numpy as np\n",
    "import pandas as pd\n",
    "import scipy\n",
    "import skbio\n",
    "\n",
    "from emp_power.power import subsample_power"
   ]
  },
  {
   "cell_type": "markdown",
   "metadata": {},
   "source": [
    "We'll set a random seed so the same simulations are performed every time."
   ]
  },
  {
   "cell_type": "code",
   "execution_count": 2,
   "metadata": {
    "collapsed": true
   },
   "outputs": [],
   "source": [
    "np.random.seed(25) "
   ]
  },
  {
   "cell_type": "markdown",
   "metadata": {},
   "source": [
    "We can also set up this "
   ]
  },
  {
   "cell_type": "code",
   "execution_count": 3,
   "metadata": {
    "collapsed": true
   },
   "outputs": [],
   "source": [
    "num_cpus = 1\n",
    "overwrite = False"
   ]
  },
  {
   "cell_type": "markdown",
   "metadata": {},
   "source": []
  },
  {
   "cell_type": "code",
   "execution_count": 4,
   "metadata": {
    "collapsed": true
   },
   "outputs": [],
   "source": [
    "sim_location = './simulations/'\n",
    "if not os.path.exists(sim_location):\n",
    "    os.makedirs(sim_location)"
   ]
  },
  {
   "cell_type": "markdown",
   "metadata": {},
   "source": []
  },
  {
   "cell_type": "code",
   "execution_count": 10,
   "metadata": {
    "collapsed": true
   },
   "outputs": [],
   "source": [
    "num_rounds = 5"
   ]
  },
  {
   "cell_type": "code",
   "execution_count": 7,
   "metadata": {
    "collapsed": true
   },
   "outputs": [],
   "source": [
    "distributions = {}"
   ]
  },
  {
   "cell_type": "markdown",
   "metadata": {},
   "source": [
    "We're going to vary the number of samples we draw and the level of the test."
   ]
  },
  {
   "cell_type": "code",
   "execution_count": 8,
   "metadata": {
    "collapsed": true
   },
   "outputs": [],
   "source": [
    "depths = [19, 99, 999]\n",
    "alphas = [0.05, 0.01, 0.001]"
   ]
  },
  {
   "cell_type": "markdown",
   "metadata": {},
   "source": [
    "# Power Calculation\n",
    "\n",
    "## Permanova"
   ]
  },
  {
   "cell_type": "code",
   "execution_count": 24,
   "metadata": {
    "collapsed": false
   },
   "outputs": [],
   "source": [
    "def calculate_permanova_power(sim_fp, power_fp, depth, alpha):\n",
    "    \"\"\"Description strings are awesome!\"\"\"\n",
    "    # Loads the simulation data\n",
    "    with open(sim_fp, 'rb') as f_:\n",
    "        sim = pickle.load(f_)\n",
    "\n",
    "    # Draws the groups and distance matrix and idenifies the sample\n",
    "    dm, groups = sim['samples']\n",
    "    samples = [groups.loc[groups == i].index for i in [0, 1]]\n",
    "\n",
    "    # Sets up the count depth because we cannot use bootstrapping easily\n",
    "    # (unless we cheat? Do I need to cheat?)\n",
    "    counts = np.arange(5, len(samples[0]) - 10, 10)\n",
    "\n",
    "    # Defines the statistical test\n",
    "    def test(ids):\n",
    "        obs = np.hstack(ids)\n",
    "        res = skbio.stats.distance.permanova(\n",
    "            distance_matrix=dm.filter(obs),\n",
    "            grouping=groups.loc[obs],\n",
    "            permutations=depth,\n",
    "        )\n",
    "        return res['p-value']\n",
    "    \n",
    "    # Calculates power\n",
    "    power = subsample_power(test=test,\n",
    "                            samples=samples,\n",
    "                            counts=counts,\n",
    "                            num_iter=1000,\n",
    "                            num_runs=3,\n",
    "                            alpha=alpha,\n",
    "                            bootstrap=False,\n",
    "                            )\n",
    "    \n",
    "    # Generates the summary dictionary\n",
    "    power_summary = {'emperical_power': power,\n",
    "                     'traditional_power': None,\n",
    "                     'original_p': test(samples),\n",
    "                     'num_obs': len(samples[0]),\n",
    "                     'depth': depth,\n",
    "                     'alpha': alpha,\n",
    "                     'counts': counts,\n",
    "                     }\n",
    "    \n",
    "    # Saves the file\n",
    "    with open(power_fp, 'wb') as f_:\n",
    "        pickle.dump(power_summary, f_)"
   ]
  },
  {
   "cell_type": "markdown",
   "metadata": {},
   "source": []
  },
  {
   "cell_type": "code",
   "execution_count": 25,
   "metadata": {
    "collapsed": true
   },
   "outputs": [],
   "source": [
    "depth = 20\n",
    "alpha = 0.05"
   ]
  },
  {
   "cell_type": "code",
   "execution_count": 26,
   "metadata": {
    "collapsed": true
   },
   "outputs": [],
   "source": [
    "# for (depth, alpha) in itertools.product(depths, alphas):\n",
    "sim_dir = os.path.join(sim_location, 'data/permanova')\n",
    "power_dir = os.path.join(sim_location,\n",
    "                         'power/permanova/iter_test/iter_%i-alpha_%s'\n",
    "                         % (depth, alpha))\n",
    "if not os.path.exists(power_dir):\n",
    "    os.makedirs(power_dir)"
   ]
  },
  {
   "cell_type": "code",
   "execution_count": 27,
   "metadata": {
    "collapsed": false
   },
   "outputs": [
    {
     "data": {
      "text/plain": [
       "True"
      ]
     },
     "execution_count": 27,
     "metadata": {},
     "output_type": "execute_result"
    }
   ],
   "source": [
    "os.path.exists(power_dir)"
   ]
  },
  {
   "cell_type": "code",
   "execution_count": 28,
   "metadata": {
    "collapsed": false
   },
   "outputs": [],
   "source": [
    "# p = Pool(num_cpus)\n",
    "for i in range(num_rounds):\n",
    "    sim_fp = os.path.join(sim_dir, 'simulation_%i.p' % i)\n",
    "    power_fp = os.path.join(power_dir, 'simulation_%i.p' % i)\n",
    "    if not os.path.exists(power_fp):\n",
    "        calculate_permanova_power(sim_fp=sim_fp,\n",
    "                                  power_fp=power_fp,\n",
    "                                  depth=depth,\n",
    "                                  alpha=alpha,\n",
    "                                  )\n",
    "        "
   ]
  },
  {
   "cell_type": "markdown",
   "metadata": {
    "collapsed": false
   },
   "source": [
    "## Mantel Calculation"
   ]
  },
  {
   "cell_type": "code",
   "execution_count": null,
   "metadata": {
    "collapsed": true
   },
   "outputs": [],
   "source": [
    "def calculate_mantel_power(i, sim_dir, power_dir, alpha, depth):\n",
    "    \"\"\"Wrapper to calculate power for the mantel test\"\"\"\n",
    "    \n",
    "    # Loads the simulation data\n",
    "    with open(os.path.join(sim_dir, 'simulation_%i.p' % i), 'rb') as f_:\n",
    "        sim = pickle.load(f_)\n",
    "    \n",
    "    # Draws the groups and distance matrix and idenifies the sample\n",
    "    x, y = sim['samples']\n",
    "    samples = [np.array(x.ids)]\n",
    "    \n",
    "    # Sets up the counts vector\n",
    "    counts = np.arange(5, len(samples) - 10, 10)\n",
    "    \n",
    "    def test(samples):\n",
    "        obs = samples[0]\n",
    "        res = skbio.stats.distance.mantel(\n",
    "            x.filter(obs),\n",
    "            y.filter(obs),\n",
    "            permutations=depth\n",
    "        )\n",
    "        return res[1]\n",
    "    \n",
    "    power = subsample_power(test=test,\n",
    "                        samples=samples,\n",
    "                        counts=counts,\n",
    "                        num_iter=1000,\n",
    "                        num_runs=3,\n",
    "                        alpha=alpha,\n",
    "                        bootstrap=False,\n",
    "                        draw_mode='matched'\n",
    "                        )\n",
    "    # Generates the summary dictionary\n",
    "    power_summary = {'emperical_power': power,\n",
    "                     'traditional_power': None,\n",
    "                     'original_p': test(samples),\n",
    "                     'num_obs': len(samples[0]),\n",
    "                     'depth': depth,\n",
    "                     'alpha': alpha,\n",
    "                     'counts': counts,\n",
    "                     }\n",
    "    \n",
    "    # Saves the file\n",
    "    with open(os.path.join(power_dir, 'simulation_%i.p' % i), 'wb') as f_:\n",
    "        pickle.dump(power_summary, f_)"
   ]
  },
  {
   "cell_type": "raw",
   "metadata": {},
   "source": [
    "for (depth, alpha) in itertools.product(depths, alphas):\n",
    "    sim_dir = os.path.join(sim_location, 'mantel/data')\n",
    "    power_dir = os.path.join(sim_location,\n",
    "                             'mantel/power/iter_%i/alpha_%s'\n",
    "                             % (depth, alpha))\n",
    "\n",
    "    p = Pool(num_cpus)\n",
    "    if not os.path.exists(power_dir) or overwrite:\n",
    "        for i in range(num_rounds):\n",
    "            sim_kwargs = {'i': i,\n",
    "                          'sim_dir': sim_dir,\n",
    "                          'power_dir': power_dir,\n",
    "                          'depth': depth,\n",
    "                          'alpha': alpha,\n",
    "                          }\n",
    "            p.apply_async(calculate_mantel_power, sim_kwargs)\n",
    "        p.join()\n",
    "        p.close()"
   ]
  }
 ],
 "metadata": {
  "kernelspec": {
   "display_name": "Python 3",
   "language": "python",
   "name": "python3"
  },
  "language_info": {
   "codemirror_mode": {
    "name": "ipython",
    "version": 3
   },
   "file_extension": ".py",
   "mimetype": "text/x-python",
   "name": "python",
   "nbconvert_exporter": "python",
   "pygments_lexer": "ipython3",
   "version": "3.5.1"
  }
 },
 "nbformat": 4,
 "nbformat_minor": 0
}
